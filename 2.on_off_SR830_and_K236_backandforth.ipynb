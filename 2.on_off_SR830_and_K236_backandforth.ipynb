{
 "cells": [
  {
   "cell_type": "markdown",
   "metadata": {},
   "source": [
    "# 掃Gate量IV "
   ]
  },
  {
   "cell_type": "code",
   "execution_count": 1,
   "metadata": {},
   "outputs": [
    {
     "name": "stdout",
     "output_type": "stream",
     "text": [
      "2020-11-09 16:10:29\n"
     ]
    }
   ],
   "source": [
    "import numpy as np\n",
    "import pandas as pd\n",
    "import pyvisa as visa\n",
    "import matplotlib.pyplot as plt\n",
    "import os, time, threading, datetime, pymeasure,tqdm\n",
    "from tqdm import trange,tqdm\n",
    "from time import sleep\n",
    "from datetime import date\n",
    "from IPython import display\n",
    "from scipy.optimize import curve_fit\n",
    "from pymeasure.adapters import VISAAdapter\n",
    "from pathlib import Path\n",
    "from pymeasure.instruments.keithley import Keithley2400, Keithley2000\n",
    "import qcodes.instrument_drivers.oxford.MercuryiPS_VISA as mercury_ips\n",
    "current_work_directory = os.getcwd()\n",
    "os.chdir('C:/Users/USER/Device_Library/Device_Library/')\n",
    "from my_SR830 import my_SR830\n",
    "from my_K236 import my_K236\n",
    "import device_query\n",
    "os.chdir(current_work_directory)\n",
    "now = datetime.datetime.now()\n",
    "print(now.strftime(\"%Y-%m-%d %H:%M:%S\"))"
   ]
  },
  {
   "cell_type": "code",
   "execution_count": 2,
   "metadata": {
    "scrolled": true
   },
   "outputs": [
    {
     "data": {
      "text/plain": [
       "('ASRL1::INSTR',\n",
       " 'ASRL2::INSTR',\n",
       " 'ASRL10::INSTR',\n",
       " 'GPIB0::5::INSTR',\n",
       " 'GPIB0::23::INSTR')"
      ]
     },
     "execution_count": 2,
     "metadata": {},
     "output_type": "execute_result"
    }
   ],
   "source": [
    "visa.ResourceManager().list_resources()"
   ]
  },
  {
   "cell_type": "markdown",
   "metadata": {},
   "source": [
    "## 讀取830和236"
   ]
  },
  {
   "cell_type": "code",
   "execution_count": 7,
   "metadata": {
    "scrolled": false
   },
   "outputs": [
    {
     "name": "stdout",
     "output_type": "stream",
     "text": [
      "1e-07\n"
     ]
    }
   ],
   "source": [
    "SR830_GPIB_Addr = 5\n",
    "srs_source = my_SR830.MY_SR830(SR830_GPIB_Addr)\n",
    "\n",
    "comp = 1e-7 #輸入236的compliance                       ####記得檢查GPIB號碼 CHECK GPIB####\n",
    "k236_source_1 = my_K236.MY_KEITHLEY236(23, 'SVMI',comp) ### (GPIB#, 給(Source)V量(Measure)I , Compliance)\n",
    "k236_source_1.INITIALIZE('SVMI', comp, range_m = 0, init_value=0.0)\n",
    "print(k236_source_1.compliance)"
   ]
  },
  {
   "cell_type": "markdown",
   "metadata": {},
   "source": [
    "## 相關設定"
   ]
  },
  {
   "cell_type": "code",
   "execution_count": 8,
   "metadata": {
    "scrolled": true
   },
   "outputs": [
    {
     "name": "stdout",
     "output_type": "stream",
     "text": [
      "要不要來回掃? Y/N >>> Y\n",
      "(來回算一次，要幾次?(輸入數字 ex. 1 2 3) >>> 1\n",
      "\n",
      "掃過的電壓值如下\n",
      "[0.5        0.55555556 0.61111111 0.66666667 0.72222222 0.77777778\n",
      " 0.83333333 0.88888889 0.94444444 1.         1.         0.94444444\n",
      " 0.88888889 0.83333333 0.77777778 0.72222222 0.66666667 0.61111111\n",
      " 0.55555556 0.5       ]\n"
     ]
    }
   ],
   "source": [
    "gate_voltage_apply_1,n = [],'no input'\n",
    "\n",
    "min_V = 2    #initial voltage\n",
    "max_V = 5   #final voltage\n",
    "data_points = 900  #resolution for one sweep (min_V to max_V)\n",
    "\n",
    "forth = np.linspace(min_V, max_V,data_points)\n",
    "back = np.flip(forth,0)\n",
    "gate_voltage_apply_1 = forth\n",
    "\n",
    "flag = input(\"要不要來回掃? Y/N >>> \")\n",
    "if flag == 'Y':\n",
    "    n = eval(input(\"(來回算一次，要幾次?(輸入數字 ex. 1 2 3) >>> \"))\n",
    "    for i in range(int(n)-1):\n",
    "        gate_voltage_apply_1 = np.append(gate_voltage_apply_1,back)\n",
    "        gate_voltage_apply_1 = np.append(gate_voltage_apply_1, forth)\n",
    "    gate_voltage_apply_1 = np.append(gate_voltage_apply_1,back)\n",
    "else:\n",
    "    gate_voltage_apply_1 = forth # for 236\n",
    "print(\"\\n掃過的電壓值如下\")\n",
    "print(gate_voltage_apply_1)\n",
    "\n",
    "measure_wait_time = 2  #電壓到時等一段時間穩定後再量測\n",
    "step = 0.001         #調變電壓每一步的大小\n",
    "delay_time = 0.1    #每次調變所等待的時間\n",
    "N_ave = 10 #在一個電壓職重複量測幾次\n",
    "ave_wait = 2 #Lock-in 要等0.5秒才能再量\n",
    "fontsize = 8\n",
    "drawing_resolution=10\n",
    "\n",
    "#分壓比例(Source Drain SR830)\n",
    "divider_ratio= 1e-5\n",
    "#放大器比例(Source Drain SR830)\n",
    "Amplifier_gain= 1e6"
   ]
  },
  {
   "cell_type": "code",
   "execution_count": 9,
   "metadata": {},
   "outputs": [
    {
     "name": "stdout",
     "output_type": "stream",
     "text": [
      "20\n"
     ]
    }
   ],
   "source": [
    "print(gate_voltage_apply_1.size)"
   ]
  },
  {
   "cell_type": "markdown",
   "metadata": {},
   "source": [
    "## 830相關設定"
   ]
  },
  {
   "cell_type": "code",
   "execution_count": 10,
   "metadata": {},
   "outputs": [],
   "source": [
    "SD_voltage_apply = 1\n",
    "\n",
    "srs_goto_step = 0.05\n",
    "srs_goto_delay_time=0.5\n",
    "srs_source.input_config = 'A'\n",
    "srs_source.input_grounding = 'Float'\n",
    "srs_source.frequency = 87.11 # change the lock-in frequency\n",
    "srs_source.time_constant = 0.3 # change the lock-in time constant\n",
    "srs_source.sensitivity = 1e-3 # change the lock-in sensitivity\n",
    "srs_source.channel1 = 'X'\n",
    "srs_source.channel2 = 'Y'\n",
    "\n",
    "# srs_source.GOTO(SD_voltage_apply, srs_goto_step, srs_goto_delay_time)   #lockin test ramp\n",
    "# Lock-in 放大率(到2000需要乘上倍數)\n",
    "# senstivity 2mv = 5000倍\n",
    "# 10V / senstivity"
   ]
  },
  {
   "cell_type": "code",
   "execution_count": 11,
   "metadata": {},
   "outputs": [],
   "source": [
    "# srs_source.GOTO(SD_voltage_apply, srs_goto_step, srs_goto_delay_time) #給檢查Sensitivity\n",
    "# srs_source.GOTO(0.004, srs_goto_step, srs_goto_delay_time) #歸零"
   ]
  },
  {
   "cell_type": "markdown",
   "metadata": {},
   "source": [
    "## 路徑設定"
   ]
  },
  {
   "cell_type": "code",
   "execution_count": 12,
   "metadata": {},
   "outputs": [
    {
     "name": "stdout",
     "output_type": "stream",
     "text": [
      "檔名會叫做 >> test\n"
     ]
    }
   ],
   "source": [
    "repeat = 0\n",
    "folder_path = \"C:/Users/USER/Sean/2020-11-09 QD on_off/\" ##儲存的地方\n",
    "file_name = 'I_V_G_V_GateShorted_fine_2-5_repeat%s_at_%s'%(repeat,date.today())##儲存的檔名\n",
    "\n",
    "print('檔名會叫做 >> %s'%file_name) \n",
    "\n",
    "overwrite = 'Y'\n",
    "if os.path.isfile('%s%s.txt'%(folder_path,file_name))==True:\n",
    "    overwrite = input('Do you want to overwtite the existing file? >>> Y/N  ')\n",
    "if overwrite == 'Y':\n",
    "    file_name = file_name\n",
    "else:\n",
    "    file_name = '##'\n",
    "    print(\"please create a new file\")\n",
    "    raise RuntimeError('!!!!  File exsit, please name a new file  !!!!')"
   ]
  },
  {
   "cell_type": "markdown",
   "metadata": {},
   "source": [
    "## 歸零"
   ]
  },
  {
   "cell_type": "code",
   "execution_count": 14,
   "metadata": {},
   "outputs": [],
   "source": [
    "k236_source_1.GOTO(0.0, step, delay_time, range_m = 0, reset_compliance=False)"
   ]
  },
  {
   "cell_type": "markdown",
   "metadata": {},
   "source": [
    "## 到開始量測點後開始量測"
   ]
  },
  {
   "cell_type": "code",
   "execution_count": 16,
   "metadata": {
    "scrolled": true
   },
   "outputs": [
    {
     "name": "stderr",
     "output_type": "stream",
     "text": [
      "C:\\Users\\USER\\Anaconda3\\lib\\site-packages\\ipykernel_launcher.py:57: MatplotlibDeprecationWarning: Adding an axes using the same arguments as a previous axes currently reuses the earlier instance.  In a future version, a new instance will always be created and returned.  Meanwhile, this warning can be suppressed, and the future behavior ensured, by passing a unique label to each axes instance.\n",
      "C:\\Users\\USER\\Anaconda3\\lib\\site-packages\\ipykernel_launcher.py:65: MatplotlibDeprecationWarning: Adding an axes using the same arguments as a previous axes currently reuses the earlier instance.  In a future version, a new instance will always be created and returned.  Meanwhile, this warning can be suppressed, and the future behavior ensured, by passing a unique label to each axes instance.\n"
     ]
    },
    {
     "data": {
      "image/png": "[encoded data removed]",
      "text/plain": [
       "<Figure size 600x600 with 2 Axes>"
      ]
     },
     "metadata": {},
     "output_type": "display_data"
    },
    {
     "name": "stdout",
     "output_type": "stream",
     "text": [
      "Measurement ends.\n",
      "Source drain goes to zero...\n",
      "這次量測花費了 3.036271 分鐘\n",
      "DONE!!!\n"
     ]
    },
    {
     "data": {
      "image/png": "[encoded data removed]",
      "text/plain": [
       "<Figure size 600x600 with 2 Axes>"
      ]
     },
     "metadata": {
      "needs_background": "light"
     },
     "output_type": "display_data"
    }
   ],
   "source": [
    "k236_source_1.GOTO(-1.0, step, delay_time, range_m = 0, reset_compliance=False) ##先到負一\n",
    "k236_source_1.GOTO(min_V, step, delay_time, range_m = 0, reset_compliance=False)\n",
    "print(\"Sweeping gate goes to starting value...\")\n",
    "print(\"Initialize K236...\")\n",
    "current_measure_xx = np.zeros((len(gate_voltage_apply_1), N_ave+1)) #製造0矩陣以放入量測數據\n",
    "conductance_measure_xx = np.zeros((len(gate_voltage_apply_1), N_ave+1))\n",
    "current236_measure_xx = np.zeros((len(gate_voltage_apply_1), N_ave+1))\n",
    "plt.figure(figsize=(3,3), dpi=200)\n",
    "plt.xlim([min_V,max_V])\n",
    "    #plt.xlim([0,max_I])\n",
    "start = time.time()\n",
    "print(\"Apply Gate voltage...\")\n",
    "counter = 0\n",
    "for index_V, voltage in enumerate(tqdm(gate_voltage_apply_1)): #####開始掃GATE(P1)並量測記錄\n",
    "    k236_source_1.GOTO(voltage, step, delay_time, comp, range_m = 0, reset_compliance=False)\n",
    "    time.sleep(measure_wait_time)\n",
    "    Sum_of_current, Sum_of_conductance, Sum_of_current236 = 0, 0, 0\n",
    "        \n",
    "    ####量測#### \n",
    "    if min_V<=voltage<=max_V:\n",
    "        counter+=1\n",
    "        for n in range(N_ave):\n",
    "#             current_measure_xx[index_V,n] = srs_source.x/Amplifier_gain   ##讀取Lock_in的值  絕對值:srs_source.magnitude\n",
    "#             conductance_measure_xx[index_V,n] = srs_source.x/Amplifier_gain/(SD_voltage_apply*divider_ratio)\n",
    "            current236_measure_xx[index_V,n] = k236_source_1.READ_OUT('M', print_out=False)\n",
    "            Sum_of_current += current_measure_xx[index_V,n]\n",
    "            Sum_of_conductance += conductance_measure_xx[index_V,n]\n",
    "            Sum_of_current236 += current236_measure_xx[index_V,n]\n",
    "            time.sleep(ave_wait)## Lockin delay at least 0.5s\n",
    "        current_measure_xx[index_V,N_ave] = Sum_of_current/float(N_ave) #加上平均數值\n",
    "        conductance_measure_xx[index_V,N_ave] = Sum_of_conductance/float(N_ave) #加上平均數值\n",
    "        current236_measure_xx[index_V,N_ave] = Sum_of_current236/float(N_ave)\n",
    "    ####畫圖####\n",
    "        if (counter%drawing_resolution==0):\n",
    "            display.clear_output(wait=True)\n",
    "            #pbar.update((drawing_resolution*100)//len(gate_voltage_apply_1))\n",
    "            plt.subplot(4,1, 1)\n",
    "            plt.plot(gate_voltage_apply_1[:index_V+1] , current_measure_xx[:index_V+1,N_ave], c='r')#, label='$\\\\rho_{xy} pin 2-11$')\n",
    "#           plt.ylim([voltage_measure.min(),voltage_measure.max()])\n",
    "            plt.xlabel(\"$V$ (V)\")\n",
    "            plt.xticks(fontsize=fontsize)\n",
    "            plt.ylabel(\"$I$ (A)\")\n",
    "            plt.yticks(fontsize=fontsize)\n",
    "\n",
    "            plt.subplot(4,1, 2)\n",
    "            plt.plot(gate_voltage_apply_1[:index_V+1] , conductance_measure_xx[:index_V+1,N_ave], c='r')#, label='$\\\\rho_{xy} pin 2-11$')\n",
    "#           plt.ylim([voltage_measure.min(),voltage_measure.max()])\n",
    "            plt.xlabel(\"$V$ (V)\")\n",
    "            plt.xticks(fontsize=fontsize)\n",
    "            plt.ylabel(\"$G$ (S)\")\n",
    "            plt.yticks(fontsize=fontsize)\n",
    "            display.display(plt.gcf())\n",
    "#             print(\"Current temperature is %.4f K.\"%triton.GET_CURRENT_TEMPERATURE(control_channel))\n",
    "time.sleep(0.01)\n",
    "display.clear_output(wait=True)\n",
    "plt.subplot(4,1, 1)\n",
    "plt.plot(gate_voltage_apply_1 , current_measure_xx[:,N_ave], c='r')#, label='$\\\\rho_{xy} pin 2-11$')\n",
    "#plt.ylim([voltage_measure.min(),voltage_measure.max()])\n",
    "plt.xlabel(\"$V$ (V)\")\n",
    "plt.xticks(fontsize=fontsize)\n",
    "plt.ylabel(\"$I$ (A)\")\n",
    "plt.yticks(fontsize=fontsize)\n",
    "\n",
    "plt.subplot(4,1, 2)\n",
    "plt.plot(gate_voltage_apply_1 , conductance_measure_xx[:,N_ave], c='r')#, label='$\\\\rho_{xy} pin 2-11$')\n",
    "#plt.ylim([voltage_measure.min(),voltage_measure.max()])\n",
    "plt.xlabel(\"$V$ (V)\")\n",
    "plt.xticks(fontsize=fontsize)\n",
    "plt.ylabel(\"$G$ (S)\")\n",
    "plt.yticks(fontsize=fontsize)\n",
    "display.display(plt.gcf())\n",
    "stop = time.time()\n",
    "T=(stop-start)/60\n",
    "\n",
    "print(\"Measurement ends.\")\n",
    "print(\"Source drain goes to zero...\")\n",
    "print('這次量測花費了 %f 分鐘'%T)\n",
    "k236_source_1.GOTO(0.0, step, delay_time, comp, range_m = 0, reset_compliance=False)\n",
    "print(\"DONE!!!\")"
   ]
  },
  {
   "cell_type": "code",
   "execution_count": 18,
   "metadata": {
    "scrolled": false
   },
   "outputs": [],
   "source": [
    "raw_data = np.hstack((gate_voltage_apply_1.reshape(-1,1), current_measure_xx, conductance_measure_xx))\n",
    "data = np.hstack((gate_voltage_apply_1.reshape(-1,1), current_measure_xx[:,[-1]], conductance_measure_xx[:,[-1]]))\n",
    "np.savetxt(\"%sraw_data%s.txt\" %(folder_path,file_name),raw_data, fmt=\"%.8e\", \\\n",
    "           header='V(V)\\tI(A)*%d\\tI_avg\\tG(S)*%d\\tG_avg(S)'%(N_ave,N_ave))\n",
    "np.savetxt('%s%s.txt'%(folder_path,file_name),data, fmt=\"%.8e\",comments='',\\\n",
    "           header='VAG\\tId_avg_of_%s\\tG_avg_of_%s\\t236current\\\n",
    "           \\n(V)\\t(A)\\t(S)\\t(A)\\\n",
    "           \\nfrom%sVto%sV\\tresolution_%s(V)\\tor%spoints\\tleakage_current\\tmeasure_wait_time_%s\\tgoto_step_%s\\tdelay_time_goto_%s'\\\n",
    "           %(N_ave,N_ave,\\\n",
    "             min_V,max_V,(max_V-min_V)/data_points,data_points,measure_wait_time,step,delay_time))\n",
    "\n",
    "\n",
    "#\"%s/I_V_G_V%s.txt\" %(folder_path,file_name)\n",
    "# print (now.strftime(\"%Y-%m-%d %H:%M:%S\"))"
   ]
  },
  {
   "cell_type": "markdown",
   "metadata": {},
   "source": [
    "# 其他量測方法"
   ]
  },
  {
   "cell_type": "code",
   "execution_count": 13,
   "metadata": {},
   "outputs": [],
   "source": [
    "#         for n in range(N_ave+1):\n",
    "#             if n == N_ave:\n",
    "#                 current_measure_xx[index_V,n] = Sum_of_current/float(N_ave) #加上平均數值\n",
    "#             else: \n",
    "#                 current_measure_xx[index_V,n] = srs_source.magnitude  ##讀取Lock_in的值\n",
    "#                 Sum_of_current += current_measure_xx[index_V,n]\n",
    "#                 time.sleep(srs_goto_delay_time)## Lockin delay 0.5s"
   ]
  },
  {
   "cell_type": "markdown",
   "metadata": {},
   "source": [
    "# 其他存檔方法"
   ]
  },
  {
   "cell_type": "code",
   "execution_count": 14,
   "metadata": {},
   "outputs": [],
   "source": [
    "# data = np.concatenate((z_range.reshape(-1,1),resistance_measure_1.reshape(-1,1),resistance_measure_2.reshape(-1,1)), axis=1) #✪measure要改   \n",
    "# np.savetxt(\"%sGraphene_%s.txt\" %(path, file_name), data, fmt=\"%.8e\")\n",
    "\n",
    "# with open(\"%sGraphene_%s.txt\" %(path, annotation), 'ab') as file:\n",
    "#     data = np.concatenate((z_range.reshape(-1,1),voltage_measure_1.reshape(-1,1)), axis=1) #✪measure要改   \n",
    "#     np.savetxt(file, data, fmt=\"%.8e\")"
   ]
  },
  {
   "cell_type": "markdown",
   "metadata": {},
   "source": [
    "# K213其他調控方法"
   ]
  },
  {
   "cell_type": "code",
   "execution_count": 15,
   "metadata": {},
   "outputs": [],
   "source": [
    "#法1\n",
    "# gate_volt = k213_source_2.GET_OUTPUT(port=2)\n",
    "# if gate_volt <= min(gate_voltage_apply_2,gate_voltage_apply_3):\n",
    "#     while gate_volt <= min(gate_voltage_apply_2,gate_voltage_apply_3):\n",
    "#         if k213_source_2.GET_OUTPUT(port=2)+step_size > gate_voltage_apply_2:\n",
    "#             break\n",
    "#         gate_volt+=step_size\n",
    "\n",
    "#         k213_source_2.GOTO(gate_volt, step_size, delay_time_goto,\\\n",
    "#                          reset_range=True, auto_range = True, range_m=1, reset_port = True, port=2)  \n",
    "#         k213_source_3.GOTO(gate_volt, step_size, delay_time_goto,\\\n",
    "#                          reset_range=True, auto_range = True, range_m=1, reset_port = True, port=3) \n",
    "\n",
    "# else:\n",
    "#     while gate_volt >= min(gate_voltage_apply_2,gate_voltage_apply_3):\n",
    "#         if k213_source_2.GET_OUTPUT(port=2)-step_size < gate_voltage_apply_2:\n",
    "#             break\n",
    "#         gate_volt+=step_size*-1\n",
    "\n",
    "#         k213_source_2.GOTO(gate_volt, step_size, delay_time_goto,\\\n",
    "#                          reset_range=True, auto_range = True, range_m=1, reset_port = True, port=2)  \n",
    "#         k213_source_3.GOTO(gate_volt, step_size, delay_time_goto,\\\n",
    "#                          reset_range=True, auto_range = True, range_m=1, reset_port = True, port=3) \n",
    "\n",
    "\n",
    "\n",
    "\n",
    "\n",
    "\n",
    "#法2\n",
    "##### 213設定(固定P2,P3)\n",
    "# from threading import Thread\n",
    "# def func1():\n",
    "#     return k213_source_2.GOTO(gate_voltage_apply_2, step_size, delay_time_goto,\\\n",
    "#                             reset_range=True, auto_range = True, range_m=1, reset_port = True, port=2)\n",
    "# def func2():\n",
    "#     return k213_source_3.GOTO(gate_voltage_apply_3, step_size, delay_time_goto,\\\n",
    "#                             reset_range=True, auto_range = True, range_m=1, reset_port = True, port=3)\n",
    "# if __name__ == '__main__':\n",
    "#     Thread(target = func1).start()\n",
    "#     Thread(target = func2).start()"
   ]
  },
  {
   "cell_type": "code",
   "execution_count": 16,
   "metadata": {},
   "outputs": [],
   "source": [
    "# path = 'C:/Users/LiangLab/Sean/test_data'\n",
    "\n",
    "# #✪位✪置有更正需要改動\n",
    "# try:\n",
    "#     os.makedirs(path)\n",
    "# except:\n",
    "#     print(\"Directory might exists!\")"
   ]
  },
  {
   "cell_type": "code",
   "execution_count": 17,
   "metadata": {},
   "outputs": [],
   "source": [
    "# plt.savefig('%s/Rxx.png'%folder_path[index_current],bbox_inches='tight', dpi=200, pad_inches=0.05) ##存圖片\n",
    "\n",
    "\n",
    "\n",
    "# for gate_voltage in gate_voltage_apply_1 : \n",
    "\n",
    "#     k213_source.GOTO(gate_voltage, step_size, delay_time_goto,\\\n",
    "#                      reset_range=True, auto_range = True, range_m=1, reset_port = True, port=1)\n",
    "\n",
    "#     with open(path+file_name, 'a') as f:\n",
    "#         np.savetxt(f, data, fmt='%.8e', delimiter='\\t')"
   ]
  }
 ],
 "metadata": {
  "kernelspec": {
   "display_name": "Python 3",
   "language": "python",
   "name": "python3"
  },
  "language_info": {
   "codemirror_mode": {
    "name": "ipython",
    "version": 3
   },
   "file_extension": ".py",
   "mimetype": "text/x-python",
   "name": "python",
   "nbconvert_exporter": "python",
   "pygments_lexer": "ipython3",
   "version": "3.7.4"
  }
 },
 "nbformat": 4,
 "nbformat_minor": 2
}
