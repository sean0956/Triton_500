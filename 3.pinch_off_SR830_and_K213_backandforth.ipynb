{
 "cells": [
  {
   "cell_type": "markdown",
   "metadata": {},
   "source": [
    "# 掃Gate量IV "
   ]
  },
  {
   "cell_type": "code",
   "execution_count": 14,
   "metadata": {},
   "outputs": [],
   "source": [
    "import numpy as np\n",
    "import pandas as pd\n",
    "import pyvisa as visa\n",
    "import matplotlib.pyplot as plt\n",
    "import os, time, threading, datetime, pymeasure,tqdm\n",
    "from tqdm import trange,tqdm\n",
    "from time import sleep\n",
    "from datetime import date\n",
    "from IPython import display\n",
    "from scipy.optimize import curve_fit\n",
    "from pymeasure.adapters import VISAAdapter\n",
    "from pathlib import Path\n",
    "from pymeasure.instruments.keithley import Keithley2400, Keithley2000\n",
    "import qcodes.instrument_drivers.oxford.MercuryiPS_VISA as mercury_ips\n",
    "current_work_directory = os.getcwd()\n",
    "os.chdir('C:/Users/USER/Device_Library/Device_Library/')\n",
    "from my_SR830 import my_SR830\n",
    "from my_K213 import my_K213\n",
    "import device_query\n",
    "os.chdir(current_work_directory)\n",
    "now = datetime.datetime.now()\n",
    "# print(now.strftime(\"%Y-%m-%d %H:%M:%S\"))"
   ]
  },
  {
   "cell_type": "code",
   "execution_count": 15,
   "metadata": {
    "scrolled": true
   },
   "outputs": [
    {
     "data": {
      "text/plain": [
       "('ASRL1::INSTR',\n",
       " 'ASRL2::INSTR',\n",
       " 'ASRL10::INSTR',\n",
       " 'GPIB0::5::INSTR',\n",
       " 'GPIB0::18::INSTR')"
      ]
     },
     "execution_count": 15,
     "metadata": {},
     "output_type": "execute_result"
    }
   ],
   "source": [
    "visa.ResourceManager().list_resources()"
   ]
  },
  {
   "cell_type": "code",
   "execution_count": 16,
   "metadata": {},
   "outputs": [],
   "source": [
    "def GOTO_THREAD(K213, port_id, target, time_shift):\n",
    "    print(\"Port ID = %d , target = %.4f .\"%(port_id, target))\n",
    "    time.sleep(time_shift)\n",
    "#     K213.GOTO(target, step, delay_time, reset_range=True,auto_range=True, reset_port=True, port=port_id)  old syntax!!\n",
    "    K213.GOTO(target, step, delay_time, port = port_id, reset_range=True,auto_range=True)\n",
    "    K213.GET_OUTPUT(port_id)\n",
    "    time.sleep(1)\n",
    "    \n",
    "def TO_ZERO_THREAD(K213, port_id, time_shift):\n",
    "    print(\"Port ID = %d , target = %.4f .\"%(port_id, 0.0))\n",
    "    time.sleep(time_shift)\n",
    "    K213.ZERO(step, delay_time, port_id)\n",
    "    K213.GET_OUTPUT(port_id)\n",
    "    time.sleep(1)"
   ]
  },
  {
   "cell_type": "markdown",
   "metadata": {},
   "source": [
    "## 讀取830和213"
   ]
  },
  {
   "cell_type": "code",
   "execution_count": 17,
   "metadata": {
    "scrolled": false
   },
   "outputs": [
    {
     "name": "stdout",
     "output_type": "stream",
     "text": [
      "Port 1 is selected.\n"
     ]
    }
   ],
   "source": [
    "SR830_GPIB_Addr = 5\n",
    "K213_GPIB_Addr = 18\n",
    "srs_source = my_SR830.MY_SR830(SR830_GPIB_Addr)\n",
    "K213 = my_K213.MY_KEITHLEY213(K213_GPIB_Addr, port=1)\n",
    "port_list = [1,2,3,4]  #輸入要固定的port(要同時調整的PORT)\n",
    "## 1 for tuning and 2 is fixed\n",
    "#[1,2,3,4] 如果多P3,P4需要當GATE"
   ]
  },
  {
   "cell_type": "markdown",
   "metadata": {},
   "source": [
    "## 相關設定"
   ]
  },
  {
   "cell_type": "code",
   "execution_count": 18,
   "metadata": {
    "scrolled": true
   },
   "outputs": [
    {
     "name": "stdout",
     "output_type": "stream",
     "text": [
      "要不要來回掃? Y/N >>> Y\n",
      "(來回算一次，要幾次?(輸入數字 ex. 1, 2, 3, 4, ...) >>> 1\n",
      "\n",
      "掃過的電壓值如下\n",
      "\n",
      "[2.5        2.48995984 2.47991968 2.46987952 2.45983936 2.4497992\n",
      " 2.43975904 2.42971888 2.41967871 2.40963855 2.39959839 2.38955823\n",
      " 2.37951807 2.36947791 2.35943775 2.34939759 2.33935743 2.32931727\n",
      " 2.31927711 2.30923695 2.29919679 2.28915663 2.27911647 2.26907631\n",
      " 2.25903614 2.24899598 2.23895582 2.22891566 2.2188755  2.20883534\n",
      " 2.19879518 2.18875502 2.17871486 2.1686747  2.15863454 2.14859438\n",
      " 2.13855422 2.12851406 2.1184739  2.10843373 2.09839357 2.08835341\n",
      " 2.07831325 2.06827309 2.05823293 2.04819277 2.03815261 2.02811245\n",
      " 2.01807229 2.00803213 1.99799197 1.98795181 1.97791165 1.96787149\n",
      " 1.95783133 1.94779116 1.937751   1.92771084 1.91767068 1.90763052\n",
      " 1.89759036 1.8875502  1.87751004 1.86746988 1.85742972 1.84738956\n",
      " 1.8373494  1.82730924 1.81726908 1.80722892 1.79718876 1.78714859\n",
      " 1.77710843 1.76706827 1.75702811 1.74698795 1.73694779 1.72690763\n",
      " 1.71686747 1.70682731 1.69678715 1.68674699 1.67670683 1.66666667\n",
      " 1.65662651 1.64658635 1.63654618 1.62650602 1.61646586 1.6064257\n",
      " 1.59638554 1.58634538 1.57630522 1.56626506 1.5562249  1.54618474\n",
      " 1.53614458 1.52610442 1.51606426 1.5060241  1.49598394 1.48594378\n",
      " 1.47590361 1.46586345 1.45582329 1.44578313 1.43574297 1.42570281\n",
      " 1.41566265 1.40562249 1.39558233 1.38554217 1.37550201 1.36546185\n",
      " 1.35542169 1.34538153 1.33534137 1.3253012  1.31526104 1.30522088\n",
      " 1.29518072 1.28514056 1.2751004  1.26506024 1.25502008 1.24497992\n",
      " 1.23493976 1.2248996  1.21485944 1.20481928 1.19477912 1.18473896\n",
      " 1.1746988  1.16465863 1.15461847 1.14457831 1.13453815 1.12449799\n",
      " 1.11445783 1.10441767 1.09437751 1.08433735 1.07429719 1.06425703\n",
      " 1.05421687 1.04417671 1.03413655 1.02409639 1.01405622 1.00401606\n",
      " 0.9939759  0.98393574 0.97389558 0.96385542 0.95381526 0.9437751\n",
      " 0.93373494 0.92369478 0.91365462 0.90361446 0.8935743  0.88353414\n",
      " 0.87349398 0.86345382 0.85341365 0.84337349 0.83333333 0.82329317\n",
      " 0.81325301 0.80321285 0.79317269 0.78313253 0.77309237 0.76305221\n",
      " 0.75301205 0.74297189 0.73293173 0.72289157 0.71285141 0.70281124\n",
      " 0.69277108 0.68273092 0.67269076 0.6626506  0.65261044 0.64257028\n",
      " 0.63253012 0.62248996 0.6124498  0.60240964 0.59236948 0.58232932\n",
      " 0.57228916 0.562249   0.55220884 0.54216867 0.53212851 0.52208835\n",
      " 0.51204819 0.50200803 0.49196787 0.48192771 0.47188755 0.46184739\n",
      " 0.45180723 0.44176707 0.43172691 0.42168675 0.41164659 0.40160643\n",
      " 0.39156627 0.3815261  0.37148594 0.36144578 0.35140562 0.34136546\n",
      " 0.3313253  0.32128514 0.31124498 0.30120482 0.29116466 0.2811245\n",
      " 0.27108434 0.26104418 0.25100402 0.24096386 0.23092369 0.22088353\n",
      " 0.21084337 0.20080321 0.19076305 0.18072289 0.17068273 0.16064257\n",
      " 0.15060241 0.14056225 0.13052209 0.12048193 0.11044177 0.10040161\n",
      " 0.09036145 0.08032129 0.07028112 0.06024096 0.0502008  0.04016064\n",
      " 0.03012048 0.02008032 0.01004016 0.         0.         0.01004016\n",
      " 0.02008032 0.03012048 0.04016064 0.0502008  0.06024096 0.07028112\n",
      " 0.08032129 0.09036145 0.10040161 0.11044177 0.12048193 0.13052209\n",
      " 0.14056225 0.15060241 0.16064257 0.17068273 0.18072289 0.19076305\n",
      " 0.20080321 0.21084337 0.22088353 0.23092369 0.24096386 0.25100402\n",
      " 0.26104418 0.27108434 0.2811245  0.29116466 0.30120482 0.31124498\n",
      " 0.32128514 0.3313253  0.34136546 0.35140562 0.36144578 0.37148594\n",
      " 0.3815261  0.39156627 0.40160643 0.41164659 0.42168675 0.43172691\n",
      " 0.44176707 0.45180723 0.46184739 0.47188755 0.48192771 0.49196787\n",
      " 0.50200803 0.51204819 0.52208835 0.53212851 0.54216867 0.55220884\n",
      " 0.562249   0.57228916 0.58232932 0.59236948 0.60240964 0.6124498\n",
      " 0.62248996 0.63253012 0.64257028 0.65261044 0.6626506  0.67269076\n",
      " 0.68273092 0.69277108 0.70281124 0.71285141 0.72289157 0.73293173\n",
      " 0.74297189 0.75301205 0.76305221 0.77309237 0.78313253 0.79317269\n",
      " 0.80321285 0.81325301 0.82329317 0.83333333 0.84337349 0.85341365\n",
      " 0.86345382 0.87349398 0.88353414 0.8935743  0.90361446 0.91365462\n",
      " 0.92369478 0.93373494 0.9437751  0.95381526 0.96385542 0.97389558\n",
      " 0.98393574 0.9939759  1.00401606 1.01405622 1.02409639 1.03413655\n",
      " 1.04417671 1.05421687 1.06425703 1.07429719 1.08433735 1.09437751\n",
      " 1.10441767 1.11445783 1.12449799 1.13453815 1.14457831 1.15461847\n",
      " 1.16465863 1.1746988  1.18473896 1.19477912 1.20481928 1.21485944\n",
      " 1.2248996  1.23493976 1.24497992 1.25502008 1.26506024 1.2751004\n",
      " 1.28514056 1.29518072 1.30522088 1.31526104 1.3253012  1.33534137\n",
      " 1.34538153 1.35542169 1.36546185 1.37550201 1.38554217 1.39558233\n",
      " 1.40562249 1.41566265 1.42570281 1.43574297 1.44578313 1.45582329\n",
      " 1.46586345 1.47590361 1.48594378 1.49598394 1.5060241  1.51606426\n",
      " 1.52610442 1.53614458 1.54618474 1.5562249  1.56626506 1.57630522\n",
      " 1.58634538 1.59638554 1.6064257  1.61646586 1.62650602 1.63654618\n",
      " 1.64658635 1.65662651 1.66666667 1.67670683 1.68674699 1.69678715\n",
      " 1.70682731 1.71686747 1.72690763 1.73694779 1.74698795 1.75702811\n",
      " 1.76706827 1.77710843 1.78714859 1.79718876 1.80722892 1.81726908\n",
      " 1.82730924 1.8373494  1.84738956 1.85742972 1.86746988 1.87751004\n",
      " 1.8875502  1.89759036 1.90763052 1.91767068 1.92771084 1.937751\n",
      " 1.94779116 1.95783133 1.96787149 1.97791165 1.98795181 1.99799197\n",
      " 2.00803213 2.01807229 2.02811245 2.03815261 2.04819277 2.05823293\n",
      " 2.06827309 2.07831325 2.08835341 2.09839357 2.10843373 2.1184739\n",
      " 2.12851406 2.13855422 2.14859438 2.15863454 2.1686747  2.17871486\n",
      " 2.18875502 2.19879518 2.20883534 2.2188755  2.22891566 2.23895582\n",
      " 2.24899598 2.25903614 2.26907631 2.27911647 2.28915663 2.29919679\n",
      " 2.30923695 2.31927711 2.32931727 2.33935743 2.34939759 2.35943775\n",
      " 2.36947791 2.37951807 2.38955823 2.39959839 2.40963855 2.41967871\n",
      " 2.42971888 2.43975904 2.4497992  2.45983936 2.46987952 2.47991968\n",
      " 2.48995984 2.5       ]\n"
     ]
    }
   ],
   "source": [
    "gate_voltage_apply_1,n = [],'no input'\n",
    "\n",
    "min_V = 2.5   #initial voltage\n",
    "max_V = 0    #final voltage\n",
    "data_points = 250  #resolution per sweep\n",
    "\n",
    "forth = np.linspace(min_V, max_V,data_points)\n",
    "back = np.flip(forth,0)\n",
    "gate_voltage_apply_1 = forth\n",
    "\n",
    "flag = input(\"要不要來回掃? Y/N >>> \")\n",
    "if flag == 'Y':\n",
    "    n = eval(input(\"(來回算一次，要幾次?(輸入數字 ex. 1, 2, 3, 4, ...) >>> \"))\n",
    "    for i in range(int(n)-1):\n",
    "        gate_voltage_apply_1 = np.append(gate_voltage_apply_1,back)\n",
    "        gate_voltage_apply_1 = np.append(gate_voltage_apply_1, forth)\n",
    "    gate_voltage_apply_1 = np.append(gate_voltage_apply_1,back)\n",
    "else:\n",
    "    gate_voltage_apply_1 = forth # for 213\n",
    "print(\"\\n掃過的電壓值如下\\n\")\n",
    "print(gate_voltage_apply_1)\n",
    "\n",
    "#gate_voltage_apply_1 = np.linspace(min_V, max_V,data_points) # for 213 port 1\n",
    "gate_voltage_apply_2 = min_V # for 213 port 2,3,4 (other gates, which are kept constant)\n",
    "\n",
    "\n",
    "measure_wait_time=1  #電壓到時等一段時間穩定後再量測\n",
    "step = 0.005         #調變電壓每一步的大小\n",
    "delay_time = 0.1    #每次調變所等待的時間\n",
    "N_ave = 10           #在一個電壓職重複量測幾次\n",
    "ave_wait = 1         #Lock-in 要等0.5秒才能再量\n",
    "\n",
    "#畫圖\n",
    "fontsize = 8\n",
    "drawing_resolution=10\n",
    "\n",
    "#分壓比例(Source Drain SR830)\n",
    "divider_ratio= 1e-5\n",
    "#放大器比例(Source Drain SR830)\n",
    "Amplifier_gain= 1e6"
   ]
  },
  {
   "cell_type": "code",
   "execution_count": 19,
   "metadata": {
    "scrolled": true
   },
   "outputs": [
    {
     "name": "stdout",
     "output_type": "stream",
     "text": [
      "500\n"
     ]
    }
   ],
   "source": [
    "print(gate_voltage_apply_1.size)"
   ]
  },
  {
   "cell_type": "markdown",
   "metadata": {},
   "source": [
    "## 830相關設定"
   ]
  },
  {
   "cell_type": "code",
   "execution_count": 20,
   "metadata": {},
   "outputs": [],
   "source": [
    "SD_voltage_apply = 1\n",
    "\n",
    "srs_goto_step = 0.05\n",
    "srs_goto_delay_time=0.5\n",
    "srs_source.input_config = 'A'\n",
    "srs_source.input_grounding = 'Float'\n",
    "srs_source.frequency = 87.11 # change the lock-in frequency\n",
    "srs_source.time_constant = 0.3 # change the lock-in time constant\n",
    "srs_source.sensitivity = 1e-3 # change the lock-in sensitivity\n",
    "srs_source.channel1 = 'X'\n",
    "srs_source.channel2 = 'Y'\n",
    "\n",
    "# srs_source.GOTO(SD_voltage_apply, srs_goto_step, srs_goto_delay_time)   #lockin test ramp\n",
    "# Lock-in 放大率(到K2000需要乘上倍數)\n",
    "# senstivity 2mv = 5000倍\n",
    "# 10V / senstivity"
   ]
  },
  {
   "cell_type": "code",
   "execution_count": 21,
   "metadata": {},
   "outputs": [],
   "source": [
    "#srs_source.GOTO(SD_voltage_apply, srs_goto_step, srs_goto_delay_time) #給檢查Sensitivity\n",
    "#srs_source.GOTO(0.004, srs_goto_step, srs_goto_delay_time) #歸零"
   ]
  },
  {
   "cell_type": "markdown",
   "metadata": {},
   "source": [
    "## 路徑設定"
   ]
  },
  {
   "cell_type": "code",
   "execution_count": 22,
   "metadata": {},
   "outputs": [
    {
     "name": "stdout",
     "output_type": "stream",
     "text": [
      "檔名會叫做 >> AG2_pinch_off_backandforth_others_at_2.5V_repeat0_at_2020-11-13\n"
     ]
    }
   ],
   "source": [
    "repeat = 0\n",
    "pin_name = \"AG2\"\n",
    "folder_path = \"C:/Users/USER/Sean/2020-11-10 QD pinch_off/\" ##儲存的地方\n",
    "file_name = '%s_pinch_off_backandforth_others_at_%sV_repeat%s_at_%s'%(pin_name,gate_voltage_apply_2, repeat,date.today())##儲存的檔名\n",
    "\n",
    "print('檔名會叫做 >> %s'%file_name) \n",
    "\n",
    "overwrite = 'Y'\n",
    "if os.path.isfile('%s%s.txt'%(folder_path,file_name))==True:\n",
    "    overwrite = input('Do you want to overwtite the existing file? >>> Y/N  ')\n",
    "if overwrite == 'Y':\n",
    "    file_name = file_name\n",
    "else:\n",
    "    file_name = '##'\n",
    "    print(\"please create a new file\")\n",
    "    raise RuntimeError('!!!!  File exsit, please name a new file  !!!!')"
   ]
  },
  {
   "cell_type": "markdown",
   "metadata": {},
   "source": [
    "## 213歸零"
   ]
  },
  {
   "cell_type": "code",
   "execution_count": 23,
   "metadata": {
    "scrolled": true
   },
   "outputs": [
    {
     "name": "stdout",
     "output_type": "stream",
     "text": [
      "Start...\n",
      "Port ID = 1 , target = 0.0000 .Port ID = 2 , target = 0.0000 .\n",
      "Port ID = 3 , target = 0.0000 .\n",
      "Port ID = 4 , target = 0.0000 .\n",
      "\n"
     ]
    },
    {
     "name": "stderr",
     "output_type": "stream",
     "text": [
      "Exception in thread Thread-20:\n",
      "Traceback (most recent call last):\n",
      "  File \"C:\\Users\\USER\\Anaconda3\\lib\\threading.py\", line 926, in _bootstrap_inner\n",
      "    self.run()\n",
      "  File \"C:\\Users\\USER\\Anaconda3\\lib\\threading.py\", line 870, in run\n",
      "    self._target(*self._args, **self._kwargs)\n",
      "  File \"<ipython-input-16-ed4b6c856ddf>\", line 13, in TO_ZERO_THREAD\n",
      "    K213.GET_OUTPUT(port_id)\n",
      "  File \"C:\\Users\\USER\\Device_Library\\Device_Library\\my_K213\\my_K213.py\", line 51, in GET_OUTPUT\n",
      "    voltage = eval(voltage)\n",
      "  File \"<string>\", line 1\n",
      "    00.00000V+00.00000\n",
      "            ^\n",
      "SyntaxError: invalid syntax\n",
      "\n",
      "Exception in thread Thread-21:\n",
      "Traceback (most recent call last):\n",
      "  File \"C:\\Users\\USER\\Anaconda3\\lib\\threading.py\", line 926, in _bootstrap_inner\n",
      "    self.run()\n",
      "  File \"C:\\Users\\USER\\Anaconda3\\lib\\threading.py\", line 870, in run\n",
      "    self._target(*self._args, **self._kwargs)\n",
      "  File \"<ipython-input-16-ed4b6c856ddf>\", line 12, in TO_ZERO_THREAD\n",
      "    K213.ZERO(step, delay_time, port_id)\n",
      "  File \"C:\\Users\\USER\\Device_Library\\Device_Library\\my_K213\\my_K213.py\", line 101, in ZERO\n",
      "    self.GOTO(0.0, step, delay_time, port)\n",
      "  File \"C:\\Users\\USER\\Device_Library\\Device_Library\\my_K213\\my_K213.py\", line 85, in GOTO\n",
      "    now_value = self.GET_OUTPUT(port)\n",
      "  File \"C:\\Users\\USER\\Device_Library\\Device_Library\\my_K213\\my_K213.py\", line 51, in GET_OUTPUT\n",
      "    voltage = eval(voltage)\n",
      "  File \"<string>\", line 1\n",
      "    1C0P3R0V+00.00000\n",
      "           ^\n",
      "SyntaxError: invalid syntax\n",
      "\n"
     ]
    },
    {
     "name": "stdout",
     "output_type": "stream",
     "text": [
      "Done!\n",
      "P1 is now at 0.0 Volts\n",
      "P2 is now at 0.0 Volts\n",
      "P3 is now at 0.0 Volts\n",
      "P4 is now at 0.0 Volts\n"
     ]
    }
   ],
   "source": [
    "threads = []\n",
    "shift = 4e-2 #同時給兩個port會當機所以要有一個小時間差\n",
    "\n",
    "print(\"Start...\")\n",
    "for i in range(len(port_list)):\n",
    "    time_shift = shift*i\n",
    "    threads.append(threading.Thread(target = TO_ZERO_THREAD, args = (K213, port_list[i], time_shift)))\n",
    "    threads[i].start()\n",
    "\n",
    "for i in range(len(port_list)):\n",
    "    threads[i].join()\n",
    "\n",
    "print(\"Done!\")\n",
    "print('P%d is now at'%port_list[0],K213.GET_OUTPUT(port=1),'Volts')\n",
    "print('P%d is now at'%port_list[1],K213.GET_OUTPUT(port=2),'Volts')\n",
    "print('P%d is now at'%port_list[2],K213.GET_OUTPUT(port=3),'Volts')\n",
    "print('P%d is now at'%port_list[3],K213.GET_OUTPUT(port=4),'Volts')\n"
   ]
  },
  {
   "cell_type": "markdown",
   "metadata": {},
   "source": [
    "## 將固定電壓先給好"
   ]
  },
  {
   "cell_type": "code",
   "execution_count": 24,
   "metadata": {
    "scrolled": true
   },
   "outputs": [
    {
     "name": "stdout",
     "output_type": "stream",
     "text": [
      "Start...\n",
      "Port ID = 1 , target = 2.9940 .\n",
      "Port ID = 2 , target = 2.9940 .Port ID = 3 , target = 2.9940 .\n",
      "Port ID = 4 , target = 3.4722 .\n",
      "\n",
      "Done!\n",
      "P1 is now at 2.99375 Volts\n",
      "P2 is now at 2.99375 Volts\n",
      "P3 is now at 2.99375 Volts\n",
      "P4 is now at 3.47125 Volts\n"
     ]
    }
   ],
   "source": [
    "#srs_source.GOTO(SD_voltage_apply, srs_goto_step, srs_goto_delay_time)       ##### SR-830設定(固定SD)\n",
    "\n",
    "threads = []  ###除上經過濾波器後遞減的電壓\n",
    "target = [min_V/0.835,gate_voltage_apply_2/0.835,gate_voltage_apply_2/0.835,gate_voltage_apply_2/0.72] #分別目標值 (有幾個PORT打幾個)\n",
    "shift = 0.1 #port 和 port之間開始便電壓的時間間隔\n",
    "\n",
    "print(\"Start...\")\n",
    "for i in range(len(port_list)):\n",
    "    time_shift = shift*i\n",
    "    threads.append(threading.Thread(target = GOTO_THREAD, args = (K213, port_list[i],target[i],time_shift)))\n",
    "    threads[i].start()\n",
    "for i in range(len(port_list)):\n",
    "    threads[i].join()\n",
    "print(\"Done!\")\n",
    "print('P%d is now at'%port_list[0],K213.GET_OUTPUT(port=1),'Volts')\n",
    "print('P%d is now at'%port_list[1],K213.GET_OUTPUT(port=2),'Volts')\n",
    "print('P%d is now at'%port_list[2],K213.GET_OUTPUT(port=3),'Volts')\n",
    "print('P%d is now at'%port_list[3],K213.GET_OUTPUT(port=4),'Volts')"
   ]
  },
  {
   "cell_type": "markdown",
   "metadata": {},
   "source": [
    "## 到開始量測點後開始量測"
   ]
  },
  {
   "cell_type": "code",
   "execution_count": 25,
   "metadata": {
    "scrolled": true
   },
   "outputs": [
    {
     "name": "stderr",
     "output_type": "stream",
     "text": [
      "C:\\Users\\USER\\Anaconda3\\lib\\site-packages\\ipykernel_launcher.py:54: MatplotlibDeprecationWarning: Adding an axes using the same arguments as a previous axes currently reuses the earlier instance.  In a future version, a new instance will always be created and returned.  Meanwhile, this warning can be suppressed, and the future behavior ensured, by passing a unique label to each axes instance.\n",
      "C:\\Users\\USER\\Anaconda3\\lib\\site-packages\\ipykernel_launcher.py:62: MatplotlibDeprecationWarning: Adding an axes using the same arguments as a previous axes currently reuses the earlier instance.  In a future version, a new instance will always be created and returned.  Meanwhile, this warning can be suppressed, and the future behavior ensured, by passing a unique label to each axes instance.\n"
     ]
    },
    {
     "data": {
      "image/png": "[encoded data removed]",
      "text/plain": [
       "<Figure size 600x600 with 2 Axes>"
      ]
     },
     "metadata": {},
     "output_type": "display_data"
    },
    {
     "name": "stdout",
     "output_type": "stream",
     "text": [
      "這次量測花費了 97.450044 分鐘\n",
      "Source drain goes to zero...\n",
      "Start...\n",
      "Port ID = 1 , target = 0.0000 .\n",
      "Port ID = 2 , target = 0.0000 .Port ID = 3 , target = 0.0000 .\n",
      "Port ID = 4 , target = 0.0000 .\n",
      "\n",
      "Done!\n",
      "P1 is now at 0.0 Volts\n",
      "P2 is now at 0.0 Volts\n",
      "P3 is now at 0.0 Volts\n",
      "P4 is now at 0.0 Volts\n"
     ]
    },
    {
     "data": {
      "image/png": "[encoded data removed]",
      "text/plain": [
       "<Figure size 600x600 with 2 Axes>"
      ]
     },
     "metadata": {
      "needs_background": "light"
     },
     "output_type": "display_data"
    }
   ],
   "source": [
    "K213.GOTO(min_V/0.835, step, delay_time, port=1,reset_range=True, auto_range = True, range_m=1)\n",
    "print(\"Sweeping gate goes to starting value...\")\n",
    "print(\"Initialize K213...\")\n",
    "\n",
    "current_measure_xx = np.zeros((len(gate_voltage_apply_1), N_ave+1)) #製造0矩陣以放入量測數據\n",
    "conductance_measure_xx = np.zeros((len(gate_voltage_apply_1), N_ave+1))\n",
    "\n",
    "plt.figure(figsize=(3,3), dpi=200)\n",
    "plt.xlim([min_V,max_V])\n",
    "    #plt.xlim([0,max_I])\n",
    "    \n",
    "start = time.time()\n",
    "print(\"Apply Gate voltage...\")\n",
    "gate_voltage_apply_1 = gate_voltage_apply_1/0.835\n",
    "for index_V, voltage in enumerate(tqdm(gate_voltage_apply_1)): #####開始掃GATE(P1)並量測記錄\n",
    "        K213.GOTO(voltage, step, delay_time, port=1,\\\n",
    "                  reset_range=True, auto_range = True, range_m=1)\n",
    "        time.sleep(measure_wait_time)\n",
    "        Sum_of_current, Sum_of_conductance = 0, 0\n",
    "        \n",
    "    ####量測####\n",
    "        for n in range(N_ave):\n",
    "            current_measure_xx[index_V,n] = srs_source.x/Amplifier_gain   ##讀取Lock_in的值  絕對值:srs_source.magnitude\n",
    "            conductance_measure_xx[index_V,n] = srs_source.x/Amplifier_gain/(SD_voltage_apply*divider_ratio)\n",
    "            Sum_of_current += current_measure_xx[index_V,n]\n",
    "            Sum_of_conductance += conductance_measure_xx[index_V,n]\n",
    "            time.sleep(ave_wait)## Lockin delay 0.5s\n",
    "        current_measure_xx[index_V,N_ave] = Sum_of_current/float(N_ave) #加上平均數值\n",
    "        conductance_measure_xx[index_V,N_ave] = Sum_of_conductance/float(N_ave) #加上平均數值\n",
    "    \n",
    "    ####畫圖####\n",
    "        if (index_V%drawing_resolution==0):\n",
    "            display.clear_output(wait=True)\n",
    "            \n",
    "            plt.subplot(4,1, 1)\n",
    "            plt.plot(gate_voltage_apply_1[:index_V+1] , current_measure_xx[:index_V+1,N_ave], c='r')#, label='$\\\\rho_{xy} pin 2-11$')\n",
    "#           plt.ylim([voltage_measure.min(),voltage_measure.max()])\n",
    "            plt.xlabel(\"$V$ (V)\")\n",
    "            plt.xticks(fontsize=fontsize)\n",
    "            plt.ylabel(\"$I$ (A)\")\n",
    "            plt.yticks(fontsize=fontsize)\n",
    "            \n",
    "            plt.subplot(4,1, 2)\n",
    "            plt.plot(gate_voltage_apply_1[:index_V+1] , conductance_measure_xx[:index_V+1,N_ave], c='r')#, label='$\\\\rho_{xy} pin 2-11$')\n",
    "#           plt.ylim([voltage_measure.min(),voltage_measure.max()])\n",
    "            plt.xlabel(\"$V$ (V)\")\n",
    "            plt.xticks(fontsize=fontsize)\n",
    "            plt.ylabel(\"$G$ (S)\")\n",
    "            plt.yticks(fontsize=fontsize)\n",
    "            display.display(plt.gcf())\n",
    "#             print(\"Current temperature is %.4f K.\"%triton.GET_CURRENT_TEMPERATURE(control_channel))\n",
    "time.sleep(0.01)\n",
    "print(\"Measurement ends.\")\n",
    "\n",
    "display.clear_output(wait=True)\n",
    "\n",
    "plt.subplot(4,1, 1)\n",
    "plt.plot(gate_voltage_apply_1 , current_measure_xx[:,N_ave], c='r')#, label='$\\\\rho_{xy} pin 2-11$')\n",
    "#plt.ylim([voltage_measure.min(),voltage_measure.max()])\n",
    "plt.xlabel(\"$V$ (V)\")\n",
    "plt.xticks(fontsize=fontsize)\n",
    "plt.ylabel(\"$I$ (A)\")\n",
    "plt.yticks(fontsize=fontsize)\n",
    "\n",
    "plt.subplot(4,1, 2)\n",
    "plt.plot(gate_voltage_apply_1 , conductance_measure_xx[:,N_ave], c='r')#, label='$\\\\rho_{xy} pin 2-11$')\n",
    "#plt.ylim([voltage_measure.min(),voltage_measure.max()])\n",
    "plt.xlabel(\"$V$ (V)\")\n",
    "plt.xticks(fontsize=fontsize)\n",
    "plt.ylabel(\"$G$ (S)\")\n",
    "plt.yticks(fontsize=fontsize)\n",
    "# plt.savefig('%s/Rxx.png'%folder_path[index_current],bbox_inches='tight', dpi=200, pad_inches=0.05) ##存圖片\n",
    "display.display(plt.gcf())\n",
    "stop = time.time()\n",
    "T=(stop-start)/60\n",
    "print('這次量測花費了 %f 分鐘'%T)\n",
    "\n",
    "    ####歸零####\n",
    "print(\"Source drain goes to zero...\")\n",
    "threads = []\n",
    "shift = 4e-2 #同時給兩個port會當機所以要有一個小時間差\n",
    "print(\"Start...\")\n",
    "for i in range(len(port_list)):\n",
    "    time_shift = shift*i\n",
    "    threads.append(threading.Thread(target = TO_ZERO_THREAD, args = (K213, port_list[i], time_shift)))\n",
    "    threads[i].start()\n",
    "for i in range(len(port_list)):\n",
    "    threads[i].join()\n",
    "print(\"Done!\")\n",
    "print('P%d is now at'%port_list[0],K213.GET_OUTPUT(port=1),'Volts')\n",
    "print('P%d is now at'%port_list[1],K213.GET_OUTPUT(port=2),'Volts')\n",
    "print('P%d is now at'%port_list[2],K213.GET_OUTPUT(port=3),'Volts')\n",
    "print('P%d is now at'%port_list[3],K213.GET_OUTPUT(port=4),'Volts')\n",
    "gate_voltage_apply_1 = gate_voltage_apply_1*0.835"
   ]
  },
  {
   "cell_type": "code",
   "execution_count": 26,
   "metadata": {
    "scrolled": false
   },
   "outputs": [],
   "source": [
    "raw_data = np.hstack((gate_voltage_apply_1.reshape(-1,1), current_measure_xx, conductance_measure_xx))\n",
    "data = np.hstack((gate_voltage_apply_1.reshape(-1,1), current_measure_xx[:,[-1]], conductance_measure_xx[:,[-1]]))\n",
    "np.savetxt(\"%sraw_data%s.txt\" %(folder_path,file_name),raw_data, fmt=\"%.8e\", \\\n",
    "           header='V(V)\\tI(A)*%d\\tI_avg\\tG(S)*%d\\tG_avg(S)'%(N_ave,N_ave))\n",
    "np.savetxt('%s%s.txt'%(folder_path,file_name),data, fmt=\"%.8e\",comments='',\\\n",
    "           header='VAG\\tId_avg_of_%s\\tG_avg_of_%s\\\n",
    "           \\n(V)\\t(A)\\t(S)\\\n",
    "           \\nfrom%sVto%sV\\tDGs_at_%sV\\t%s\\tresolution_%s(V)\\tmeasure_wait_time_%s\\tgoto_step_%s\\tdelay_time_goto_%s'\\\n",
    "           %(N_ave,N_ave,\\\n",
    "             min_V,max_V,gate_voltage_apply_2,pin_name,(max_V-min_V)/data_points,measure_wait_time,step,delay_time))\n",
    "\n",
    "\n",
    "#\"%s/I_V_G_V%s.txt\" %(folder_path,file_name)\n",
    "# print (now.strftime(\"%Y-%m-%d %H:%M:%S\"))"
   ]
  },
  {
   "cell_type": "markdown",
   "metadata": {},
   "source": [
    "# 其他量測方法"
   ]
  },
  {
   "cell_type": "code",
   "execution_count": 14,
   "metadata": {},
   "outputs": [],
   "source": [
    "#         for n in range(N_ave+1):\n",
    "#             if n == N_ave:\n",
    "#                 current_measure_xx[index_V,n] = Sum_of_current/float(N_ave) #加上平均數值\n",
    "#             else: \n",
    "#                 current_measure_xx[index_V,n] = srs_source.magnitude  ##讀取Lock_in的值\n",
    "#                 Sum_of_current += current_measure_xx[index_V,n]\n",
    "#                 time.sleep(srs_goto_delay_time)## Lockin delay 0.5s"
   ]
  },
  {
   "cell_type": "markdown",
   "metadata": {},
   "source": [
    "# 其他存檔方法"
   ]
  },
  {
   "cell_type": "code",
   "execution_count": 15,
   "metadata": {},
   "outputs": [],
   "source": [
    "# data = np.concatenate((z_range.reshape(-1,1),resistance_measure_1.reshape(-1,1),resistance_measure_2.reshape(-1,1)), axis=1) #✪measure要改   \n",
    "# np.savetxt(\"%sGraphene_%s.txt\" %(path, file_name), data, fmt=\"%.8e\")\n",
    "\n",
    "# with open(\"%sGraphene_%s.txt\" %(path, annotation), 'ab') as file:\n",
    "#     data = np.concatenate((z_range.reshape(-1,1),voltage_measure_1.reshape(-1,1)), axis=1) #✪measure要改   \n",
    "#     np.savetxt(file, data, fmt=\"%.8e\")"
   ]
  },
  {
   "cell_type": "markdown",
   "metadata": {},
   "source": [
    "# K213其他調控方法"
   ]
  },
  {
   "cell_type": "code",
   "execution_count": 16,
   "metadata": {},
   "outputs": [],
   "source": [
    "#法1\n",
    "# gate_volt = k213_source_2.GET_OUTPUT(port=2)\n",
    "# if gate_volt <= min(gate_voltage_apply_2,gate_voltage_apply_3):\n",
    "#     while gate_volt <= min(gate_voltage_apply_2,gate_voltage_apply_3):\n",
    "#         if k213_source_2.GET_OUTPUT(port=2)+step_size > gate_voltage_apply_2:\n",
    "#             break\n",
    "#         gate_volt+=step_size\n",
    "\n",
    "#         k213_source_2.GOTO(gate_volt, step_size, delay_time_goto,\\\n",
    "#                          reset_range=True, auto_range = True, range_m=1, reset_port = True, port=2)  \n",
    "#         k213_source_3.GOTO(gate_volt, step_size, delay_time_goto,\\\n",
    "#                          reset_range=True, auto_range = True, range_m=1, reset_port = True, port=3) \n",
    "\n",
    "# else:\n",
    "#     while gate_volt >= min(gate_voltage_apply_2,gate_voltage_apply_3):\n",
    "#         if k213_source_2.GET_OUTPUT(port=2)-step_size < gate_voltage_apply_2:\n",
    "#             break\n",
    "#         gate_volt+=step_size*-1\n",
    "\n",
    "#         k213_source_2.GOTO(gate_volt, step_size, delay_time_goto,\\\n",
    "#                          reset_range=True, auto_range = True, range_m=1, reset_port = True, port=2)  \n",
    "#         k213_source_3.GOTO(gate_volt, step_size, delay_time_goto,\\\n",
    "#                          reset_range=True, auto_range = True, range_m=1, reset_port = True, port=3) \n",
    "\n",
    "\n",
    "\n",
    "\n",
    "\n",
    "\n",
    "#法2\n",
    "##### 213設定(固定P2,P3)\n",
    "# from threading import Thread\n",
    "# def func1():\n",
    "#     return k213_source_2.GOTO(gate_voltage_apply_2, step_size, delay_time_goto,\\\n",
    "#                             reset_range=True, auto_range = True, range_m=1, reset_port = True, port=2)\n",
    "# def func2():\n",
    "#     return k213_source_3.GOTO(gate_voltage_apply_3, step_size, delay_time_goto,\\\n",
    "#                             reset_range=True, auto_range = True, range_m=1, reset_port = True, port=3)\n",
    "# if __name__ == '__main__':\n",
    "#     Thread(target = func1).start()\n",
    "#     Thread(target = func2).start()"
   ]
  },
  {
   "cell_type": "code",
   "execution_count": 17,
   "metadata": {},
   "outputs": [],
   "source": [
    "# path = 'C:/Users/LiangLab/Sean/test_data'\n",
    "\n",
    "# #✪位✪置有更正需要改動\n",
    "# try:\n",
    "#     os.makedirs(path)\n",
    "# except:\n",
    "#     print(\"Directory might exists!\")"
   ]
  },
  {
   "cell_type": "code",
   "execution_count": null,
   "metadata": {},
   "outputs": [],
   "source": []
  }
 ],
 "metadata": {
  "kernelspec": {
   "display_name": "Python 3",
   "language": "python",
   "name": "python3"
  },
  "language_info": {
   "codemirror_mode": {
    "name": "ipython",
    "version": 3
   },
   "file_extension": ".py",
   "mimetype": "text/x-python",
   "name": "python",
   "nbconvert_exporter": "python",
   "pygments_lexer": "ipython3",
   "version": "3.7.4"
  }
 },
 "nbformat": 4,
 "nbformat_minor": 2
}
