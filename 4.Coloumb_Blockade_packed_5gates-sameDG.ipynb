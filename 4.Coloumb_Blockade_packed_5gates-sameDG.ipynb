{
 "cells": [
  {
   "cell_type": "markdown",
   "metadata": {},
   "source": [
    "# 掃Gate量IV "
   ]
  },
  {
   "cell_type": "code",
   "execution_count": 1,
   "metadata": {},
   "outputs": [
    {
     "name": "stderr",
     "output_type": "stream",
     "text": [
      "C:\\Users\\USER\\Anaconda3\\lib\\site-packages\\visa.py:23: FutureWarning: The visa module provided by PyVISA is being deprecated. You can replace `import visa` by `import pyvisa as visa` to achieve the same effect.\n",
      "\n",
      "The reason for the deprecation is the possible conflict with the visa package provided by the https://github.com/visa-sdk/visa-python which can result in hard to debug situations.\n",
      "  FutureWarning,\n"
     ]
    }
   ],
   "source": [
    "import numpy as np\n",
    "import pandas as pd\n",
    "import pyvisa as visa\n",
    "import matplotlib.pyplot as plt\n",
    "import os, time, threading, datetime, pymeasure,tqdm\n",
    "from tqdm import trange,tqdm\n",
    "from time import sleep\n",
    "from datetime import date\n",
    "from IPython import display\n",
    "from scipy.optimize import curve_fit\n",
    "from pymeasure.adapters import VISAAdapter\n",
    "from pathlib import Path\n",
    "from pymeasure.instruments.keithley import Keithley2400, Keithley2000\n",
    "import qcodes.instrument_drivers.oxford.MercuryiPS_VISA as mercury_ips\n",
    "current_work_directory = os.getcwd()\n",
    "os.chdir('C:/Users/USER/Device_Library/Device_Library/')\n",
    "from my_SR830 import my_SR830\n",
    "from my_K213 import my_K213\n",
    "import device_query\n",
    "os.chdir(current_work_directory)\n",
    "now = datetime.datetime.now()\n",
    "# print(now.strftime(\"%Y-%m-%d %H:%M:%S\"))"
   ]
  },
  {
   "cell_type": "code",
   "execution_count": 2,
   "metadata": {
    "scrolled": true
   },
   "outputs": [
    {
     "data": {
      "text/plain": [
       "('ASRL1::INSTR',\n",
       " 'ASRL2::INSTR',\n",
       " 'ASRL3::INSTR',\n",
       " 'ASRL10::INSTR',\n",
       " 'GPIB0::5::INSTR',\n",
       " 'GPIB0::11::INSTR',\n",
       " 'GPIB0::18::INSTR',\n",
       " 'GPIB0::23::INSTR')"
      ]
     },
     "execution_count": 2,
     "metadata": {},
     "output_type": "execute_result"
    }
   ],
   "source": [
    "visa.ResourceManager().list_resources()"
   ]
  },
  {
   "cell_type": "code",
   "execution_count": 3,
   "metadata": {},
   "outputs": [],
   "source": [
    "########for packed program#######\n",
    "def GOTO_THREAD(K213, step, delay_time, port_id, target, time_shift):\n",
    "    print(\"Port ID = %d , target = %.4f .\"%(port_id, target))\n",
    "    time.sleep(time_shift)\n",
    "#     K213.GOTO(target, step, delay_time, reset_range=True,auto_range=True, reset_port=True, port=port_id)  old syntax!!\n",
    "    K213.GOTO(target, step, delay_time, port = port_id, reset_range=True,auto_range=True)\n",
    "    K213.GET_OUTPUT(port_id)\n",
    "    time.sleep(1)\n",
    "    \n",
    "def TO_ZERO_THREAD(K213, step, delay_time, port_id, time_shift):\n",
    "    print(\"Port ID = %d , target = %.4f .\"%(port_id, 0.0))\n",
    "    time.sleep(time_shift)\n",
    "    K213.ZERO(step, delay_time, port_id)\n",
    "    K213.GET_OUTPUT(port_id)\n",
    "    time.sleep(1)"
   ]
  },
  {
   "cell_type": "markdown",
   "metadata": {},
   "source": [
    "## 讀取830和213"
   ]
  },
  {
   "cell_type": "code",
   "execution_count": 4,
   "metadata": {
    "scrolled": false
   },
   "outputs": [
    {
     "name": "stderr",
     "output_type": "stream",
     "text": [
      "C:\\Users\\USER\\Anaconda3\\lib\\site-packages\\pyvisa\\highlevel.py:3355: FutureWarning: get_instrument is deprecated and will be removed in 1.12, use open_resource instead.\n",
      "  FutureWarning,\n"
     ]
    },
    {
     "name": "stdout",
     "output_type": "stream",
     "text": [
      "Port 1 is selected.\n"
     ]
    }
   ],
   "source": [
    "SR830_GPIB_Addr = 5\n",
    "K213_GPIB_Addr = 18\n",
    "srs_source = my_SR830.MY_SR830(SR830_GPIB_Addr)\n",
    "K213 = my_K213.MY_KEITHLEY213(K213_GPIB_Addr, port=1)\n",
    "port_list = [1,2,3,4]  #輸入要固定的port\n",
    "\n",
    "#[2,3,4] 如果多P4需要當GATE"
   ]
  },
  {
   "cell_type": "markdown",
   "metadata": {},
   "source": [
    "# core function"
   ]
  },
  {
   "cell_type": "code",
   "execution_count": 5,
   "metadata": {},
   "outputs": [],
   "source": [
    "def gates(BG):\n",
    "    min_V = 1.5    #initial voltage\n",
    "    max_V = 3.5    #final voltage\n",
    "    data_points = 400  #resolution\n",
    "\n",
    "    gate_voltage_apply_1 = np.append(np.linspace(min_V, max_V,data_points),np.linspace(max_V, min_V,data_points)) # for 213 port 1\n",
    "    gate_voltage_apply_2 = BG # for 213 port 2\n",
    "    gate_voltage_apply_3 = BG # for 213 port 3\n",
    "    gate_voltage_apply_4 = 3.0 # for 213 port 4\n",
    "\n",
    "\n",
    "    measure_wait_time= 2  #電壓到時等一段時間穩定後再量測\n",
    "    step = 0.001         #調變電壓每一步的大小\n",
    "    delay_time = 0.05    #每次調變所等待的時間\n",
    "    N_ave = 10 #在一個電壓職重複量測幾次\n",
    "    ave_wait = 2\n",
    "    #畫圖\n",
    "    fontsize = 8\n",
    "    drawing_resolution=10\n",
    "\n",
    "    #分壓比例(Source Drain SR830)\n",
    "    divider_ratio= 1e-5\n",
    "    #放大器比例(Source Drain SR830)\n",
    "    Amplifier_gain= 1e6\n",
    "    repeat = 0\n",
    "    folder_path = \"C:/Users/USER/Sean/2020-12-05 QD same BG test/\" ##儲存的地方\n",
    "    file_name = 'sameDGat_%sV_repeat%s_at_%s'%(gate_voltage_apply_2, repeat,date.today())\n",
    "\n",
    "    print('檔名會叫做 >> %s'%file_name) \n",
    "\n",
    "    overwrite = 'Y'\n",
    "    if os.path.isfile('%s%s.txt'%(folder_path,file_name))==True:\n",
    "        overwrite = input('Do you want to overwtite the existing file? >>> Y/N  ')\n",
    "    if overwrite == 'Y':\n",
    "        file_name = file_name\n",
    "    else:\n",
    "        file_name = '##'\n",
    "        print(\"please create a new file\")\n",
    "        raise RuntimeError('!!!!  File exsit, please name a new file  !!!!')\n",
    "    #K213.ZERO(step, delay_time, port=1)\n",
    "    SD_voltage_apply = 1\n",
    "\n",
    "    srs_goto_step = 0.05\n",
    "    srs_goto_delay_time=0.5\n",
    "    srs_source.input_config = 'A'\n",
    "    srs_source.input_grounding = 'Float'\n",
    "    srs_source.frequency = 87.11 # change the lock-in frequency\n",
    "    srs_source.time_constant = 3e-1 # change the lock-in time constant\n",
    "    srs_source.sensitivity = 5e-5 # change the lock-in sensitivity\n",
    "    srs_source.channel1 = 'X'\n",
    "    srs_source.channel2 = 'Y'\n",
    "\n",
    "    threads = []\n",
    "    shift = 4e-2 #同時給兩個port會當機所以要有一個小時間差\n",
    "\n",
    "    print(\"Start...\")\n",
    "    for i in range(len(port_list)):\n",
    "        time_shift = shift*i\n",
    "        threads.append(threading.Thread(target = TO_ZERO_THREAD, args = (K213, step, delay_time,port_list[i], time_shift)))\n",
    "        threads[i].start()\n",
    "\n",
    "    for i in range(len(port_list)):\n",
    "        threads[i].join()\n",
    "\n",
    "    print(\"Done!\")\n",
    "    print('P%d is now at'%port_list[0],K213.GET_OUTPUT(port=1),'Volts')\n",
    "    print('P%d is now at'%port_list[1],K213.GET_OUTPUT(port=2),'Volts')\n",
    "    print('P%d is now at'%port_list[2],K213.GET_OUTPUT(port=3),'Volts')\n",
    "    print('P%d is now at'%port_list[3],K213.GET_OUTPUT(port=4),'Volts')\n",
    "    #srs_source.GOTO(0.004, srs_goto_step, srs_goto_delay_time) \n",
    "    srs_source.GOTO(SD_voltage_apply, srs_goto_step, srs_goto_delay_time)       ##### SR-830設定(固定SD)\n",
    "\n",
    "    threads = []\n",
    "    target = [min_V/0.835,gate_voltage_apply_2/0.835,gate_voltage_apply_3/0.835,gate_voltage_apply_4/0.72] #分別目標值\n",
    "    shift = 0.1 #port 和 port之間開始便電壓的時間間隔\n",
    "\n",
    "    print(\"Start...\")\n",
    "    for i in range(len(port_list)):\n",
    "        time_shift = shift*i\n",
    "        threads.append(threading.Thread(target = GOTO_THREAD, args = (K213, step, delay_time,port_list[i],target[i],time_shift)))\n",
    "        threads[i].start()\n",
    "    for i in range(len(port_list)):\n",
    "        threads[i].join()\n",
    "    print(\"Done!\")\n",
    "\n",
    "    print('P%d is now at'%port_list[0],K213.GET_OUTPUT(port=1),'Volts')\n",
    "    print('P%d is now at'%port_list[1],K213.GET_OUTPUT(port=2),'Volts')\n",
    "    print('P%d is now at'%port_list[2],K213.GET_OUTPUT(port=3),'Volts')\n",
    "    print('P%d is now at'%port_list[3],K213.GET_OUTPUT(port=4),'Volts')\n",
    "    K213.GOTO(min_V/0.835, step, delay_time, port=1,\\\n",
    "              reset_range=True, auto_range = True, range_m=1)\n",
    "    print(\"Sweeping gate goes to starting value...\")\n",
    "    print(\"Initialize K213...\")\n",
    "    current_measure_xx = np.zeros((len(gate_voltage_apply_1), N_ave+1)) #製造0矩陣以放入量測數據\n",
    "    conductance_measure_xx = np.zeros((len(gate_voltage_apply_1), N_ave+1))\n",
    "    plt.figure(figsize=(3,3), dpi=200)\n",
    "    plt.xlim([min_V,max_V])\n",
    "        #plt.xlim([0,max_I])\n",
    "    start = time.time()\n",
    "\n",
    "    print(\"Apply Gate voltage...\")\n",
    "    gate_voltage_apply_1 = gate_voltage_apply_1/0.835\n",
    "    for index_V, voltage in enumerate(tqdm(gate_voltage_apply_1)): #####開始掃GATE(P1)並量測記錄\n",
    "            K213.GOTO(voltage, step, delay_time, port=1,\\\n",
    "                      reset_range=True, auto_range = True, range_m=1)\n",
    "            time.sleep(measure_wait_time)\n",
    "            Sum_of_current, Sum_of_conductance = 0, 0\n",
    "\n",
    "        ####量測####\n",
    "            for n in range(N_ave):\n",
    "                current_measure_xx[index_V,n] = srs_source.x/Amplifier_gain   ##讀取Lock_in的值  絕對值:srs_source.magnitude\n",
    "                conductance_measure_xx[index_V,n] = srs_source.x/Amplifier_gain/(SD_voltage_apply*divider_ratio)\n",
    "                Sum_of_current += current_measure_xx[index_V,n]\n",
    "                Sum_of_conductance += conductance_measure_xx[index_V,n]\n",
    "                time.sleep(ave_wait)## Lockin delay 0.5s\n",
    "            current_measure_xx[index_V,N_ave] = Sum_of_current/float(N_ave) #加上平均數值\n",
    "            conductance_measure_xx[index_V,N_ave] = Sum_of_conductance/float(N_ave) #加上平均數值\n",
    "\n",
    "        ####畫圖####\n",
    "            if (index_V%drawing_resolution==0):\n",
    "                display.clear_output(wait=True)\n",
    "\n",
    "                plt.subplot(4,1, 1)\n",
    "                plt.plot(gate_voltage_apply_1[:index_V+1] , current_measure_xx[:index_V+1,N_ave], c='r')#, label='$\\\\rho_{xy} pin 2-11$')\n",
    "    #           plt.ylim([voltage_measure.min(),voltage_measure.max()])\n",
    "                plt.xlabel(\"$V$ (V)\")\n",
    "                plt.xticks(fontsize=fontsize)\n",
    "                plt.ylabel(\"$I$ (A)\")\n",
    "                plt.yticks(fontsize=fontsize)\n",
    "\n",
    "                plt.subplot(4,1, 2)\n",
    "                plt.plot(gate_voltage_apply_1[:index_V+1] , conductance_measure_xx[:index_V+1,N_ave], c='r')#, label='$\\\\rho_{xy} pin 2-11$')\n",
    "    #           plt.ylim([voltage_measure.min(),voltage_measure.max()])\n",
    "                plt.xlabel(\"$V$ (V)\")\n",
    "                plt.xticks(fontsize=fontsize)\n",
    "                plt.ylabel(\"$G$ (S)\")\n",
    "                plt.yticks(fontsize=fontsize)\n",
    "                display.display(plt.gcf())\n",
    "    #             print(\"Current temperature is %.4f K.\"%triton.GET_CURRENT_TEMPERATURE(control_channel))\n",
    "    time.sleep(0.01)\n",
    "    print(\"Measurement ends.\")\n",
    "\n",
    "    display.clear_output(wait=True)\n",
    "\n",
    "    plt.subplot(4,1, 1)\n",
    "    plt.plot(gate_voltage_apply_1 , current_measure_xx[:,N_ave], c='r')#, label='$\\\\rho_{xy} pin 2-11$')\n",
    "    #plt.ylim([voltage_measure.min(),voltage_measure.max()])\n",
    "    plt.xlabel(\"$V$ (V)\")\n",
    "    plt.xticks(fontsize=fontsize)\n",
    "    plt.ylabel(\"$I$ (A)\")\n",
    "    plt.yticks(fontsize=fontsize)\n",
    "\n",
    "    plt.subplot(4,1, 2)\n",
    "    plt.plot(gate_voltage_apply_1 , conductance_measure_xx[:,N_ave], c='r')#, label='$\\\\rho_{xy} pin 2-11$')\n",
    "    #plt.ylim([voltage_measure.min(),voltage_measure.max()])\n",
    "    plt.xlabel(\"$V$ (V)\")\n",
    "    plt.xticks(fontsize=fontsize)\n",
    "    plt.ylabel(\"$G$ (S)\")\n",
    "    plt.yticks(fontsize=fontsize)\n",
    "    display.display(plt.gcf())\n",
    "    stop = time.time()\n",
    "    T=(stop-start)/60\n",
    "    print('這次量測花費了 %f 分鐘'%T)\n",
    "    gate_voltage_apply_1 = gate_voltage_apply_1*0.835\n",
    "    raw_data = np.hstack((gate_voltage_apply_1.reshape(-1,1), current_measure_xx, conductance_measure_xx))\n",
    "    data = np.hstack((gate_voltage_apply_1.reshape(-1,1), current_measure_xx[:,[-1]], conductance_measure_xx[:,[-1]]))\n",
    "    np.savetxt(\"%sraw_data%s.txt\" %(folder_path,file_name),raw_data, fmt=\"%.8e\", \\\n",
    "               header='V(V)\\tI(A)*%d\\tI_avg\\tG(S)*%d\\tG_avg(S)'%(N_ave,N_ave))\n",
    "    np.savetxt('%s%s.txt'%(folder_path,file_name),data, fmt=\"%.8e\",comments='',\\\n",
    "               header='VAG\\tId_avg_of_%s\\tG_avg_of_%s\\\n",
    "               \\n(V)\\t(A)\\t(S)\\\n",
    "               \\nresolution_%s(V)\\tDG1and2_at_%sVand%sV\\tDG1and2_at_%sVand%sV\\tfrom%sVto%sV\\tmeasure_wait_time_%s\\tgoto_step_%s\\tdelay_time_goto_%s'\\\n",
    "               %(N_ave,N_ave,\\\n",
    "                 (max_V-min_V)/data_points,gate_voltage_apply_2,gate_voltage_apply_3,gate_voltage_apply_2,gate_voltage_apply_3,min_V,max_V,measure_wait_time,step,delay_time))\n",
    "\n",
    "\n",
    "        ####歸零####\n",
    "    threads = []\n",
    "    shift = 4e-2 #同時給兩個port會當機所以要有一個小時間差\n",
    "    print(\"Start...\")\n",
    "    for i in range(len(port_list)):\n",
    "        time_shift = shift*i\n",
    "        threads.append(threading.Thread(target = TO_ZERO_THREAD, args = (K213, step, delay_time,port_list[i], time_shift)))\n",
    "        threads[i].start()\n",
    "\n",
    "    for i in range(len(port_list)):\n",
    "        threads[i].join()\n",
    "    print(\"Done!\")\n",
    "    print('P%d is now at'%port_list[0],K213.GET_OUTPUT(port=1),'Volts')\n",
    "    print('P%d is now at'%port_list[1],K213.GET_OUTPUT(port=2),'Volts')\n",
    "    print('P%d is now at'%port_list[2],K213.GET_OUTPUT(port=3),'Volts')\n",
    "    print('P%d is now at'%port_list[3],K213.GET_OUTPUT(port=4),'Volts')\n",
    "\n",
    "\n",
    "    #\"%s/I_V_G_V%s.txt\" %(folder_path,file_name)\n",
    "    # print (now.strftime(\"%Y-%m-%d %H:%M:%S\"))"
   ]
  },
  {
   "cell_type": "code",
   "execution_count": 8,
   "metadata": {},
   "outputs": [
    {
     "name": "stderr",
     "output_type": "stream",
     "text": [
      "C:\\Users\\USER\\Anaconda3\\lib\\site-packages\\ipykernel_launcher.py:145: MatplotlibDeprecationWarning: Adding an axes using the same arguments as a previous axes currently reuses the earlier instance.  In a future version, a new instance will always be created and returned.  Meanwhile, this warning can be suppressed, and the future behavior ensured, by passing a unique label to each axes instance.\n",
      "C:\\Users\\USER\\Anaconda3\\lib\\site-packages\\ipykernel_launcher.py:153: MatplotlibDeprecationWarning: Adding an axes using the same arguments as a previous axes currently reuses the earlier instance.  In a future version, a new instance will always be created and returned.  Meanwhile, this warning can be suppressed, and the future behavior ensured, by passing a unique label to each axes instance.\n"
     ]
    },
    {
     "data": {
      "image/png": "[encoded data removed]",
      "text/plain": [
       "<Figure size 600x600 with 2 Axes>"
      ]
     },
     "metadata": {},
     "output_type": "display_data"
    },
    {
     "name": "stdout",
     "output_type": "stream",
     "text": [
      "這次量測花費了 305.368925 分鐘\n",
      "Start...\n",
      "Port ID = 1 , target = 0.0000 .\n",
      "Port ID = 2 , target = 0.0000 .Port ID = 3 , target = 0.0000 .\n",
      "\n",
      "Port ID = 4 , target = 0.0000 .\n",
      "Done!\n",
      "P1 is now at 0.0 Volts\n",
      "P2 is now at 0.0 Volts\n",
      "P3 is now at 0.0 Volts\n",
      "P4 is now at 0.0 Volts\n"
     ]
    },
    {
     "data": {
      "image/png": "[encoded data removed]",
      "text/plain": [
       "<Figure size 600x600 with 2 Axes>"
      ]
     },
     "metadata": {
      "needs_background": "light"
     },
     "output_type": "display_data"
    }
   ],
   "source": [
    "gates(0.2)"
   ]
  }
 ],
 "metadata": {
  "kernelspec": {
   "display_name": "Python 3",
   "language": "python",
   "name": "python3"
  },
  "language_info": {
   "codemirror_mode": {
    "name": "ipython",
    "version": 3
   },
   "file_extension": ".py",
   "mimetype": "text/x-python",
   "name": "python",
   "nbconvert_exporter": "python",
   "pygments_lexer": "ipython3",
   "version": "3.7.4"
  }
 },
 "nbformat": 4,
 "nbformat_minor": 2
}
