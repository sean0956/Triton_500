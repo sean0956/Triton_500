{
 "cells": [
  {
   "cell_type": "markdown",
   "metadata": {},
   "source": [
    "## 先到Device_Libraty讀取my_236的package"
   ]
  },
  {
   "cell_type": "code",
   "execution_count": 1,
   "metadata": {},
   "outputs": [
    {
     "name": "stderr",
     "output_type": "stream",
     "text": [
      "C:\\Users\\USER\\Anaconda3\\lib\\site-packages\\visa.py:23: FutureWarning: The visa module provided by PyVISA is being deprecated. You can replace `import visa` by `import pyvisa as visa` to achieve the same effect.\n",
      "\n",
      "The reason for the deprecation is the possible conflict with the visa package provided by the https://github.com/visa-sdk/visa-python which can result in hard to debug situations.\n",
      "  FutureWarning,\n"
     ]
    }
   ],
   "source": [
    "import os\n",
    "os.chdir(\"C:/Users/USER/Device_Library/Device_Library/\")\n",
    "\n",
    "from my_K236 import my_K236\n",
    "import numpy as np\n",
    "import time, datetime, device_query,tqdm\n",
    "import pyvisa as visa \n",
    "from datetime import date\n",
    "from pymeasure.instruments.keithley import Keithley2000\n",
    "from qcodes.instrument_drivers.oxford.triton import Triton\n",
    "from statistics import mean, variance\n",
    "import matplotlib.pyplot as plt\n",
    "from IPython import display\n",
    "from tqdm import trange,tqdm\n",
    "from scipy.optimize import curve_fit\n",
    "\n",
    "os.chdir(\"C:/Users/USER/Sean/\") ## 回到工作路徑"
   ]
  },
  {
   "cell_type": "code",
   "execution_count": 2,
   "metadata": {},
   "outputs": [
    {
     "data": {
      "text/plain": [
       "('ASRL1::INSTR',\n",
       " 'ASRL2::INSTR',\n",
       " 'ASRL3::INSTR',\n",
       " 'ASRL10::INSTR',\n",
       " 'GPIB0::23::INSTR',\n",
       " 'GPIB0::26::INSTR')"
      ]
     },
     "execution_count": 2,
     "metadata": {},
     "output_type": "execute_result"
    }
   ],
   "source": [
    "rm = visa.ResourceManager()\n",
    "rm.list_resources()"
   ]
  },
  {
   "cell_type": "markdown",
   "metadata": {},
   "source": [
    "## 讀取236並設定compliance"
   ]
  },
  {
   "cell_type": "code",
   "execution_count": 3,
   "metadata": {
    "scrolled": true
   },
   "outputs": [
    {
     "name": "stdout",
     "output_type": "stream",
     "text": [
      "1e-07\n",
      "2021-03-03\n"
     ]
    }
   ],
   "source": [
    "comp = 1e-7 #輸入236的compliance                       ####記得檢查GPIB號碼 CHECK GPIB####\n",
    "k236_source_1 = my_K236.MY_KEITHLEY236(23, 'SVMI',comp) ### (GPIB#, 給(Source)V量(Measure)I , Compliance)\n",
    "print(k236_source_1.compliance)    \n",
    "print(date.today())"
   ]
  },
  {
   "cell_type": "markdown",
   "metadata": {},
   "source": [
    "# 設定參數"
   ]
  },
  {
   "cell_type": "code",
   "execution_count": 4,
   "metadata": {
    "scrolled": false
   },
   "outputs": [],
   "source": [
    "max_V = 1\n",
    "min_V = -max_V\n",
    "data_points = 21  # measuring resolution\n",
    "\n",
    "voltage_min_to_max = np.linspace(min_V, max_V, data_points)\n",
    "\n",
    "measure_wait_time = 0.01 #0.5\n",
    "step = 1##5e-2\n",
    "delay_time = 0.01#0.5\n",
    "\n",
    "N_ave = 1  ###量幾次取平均 Number of points you want to take for averaging\n",
    "drawing_resolution = 10 ###多少點畫一次 self explanatory\n",
    "fontsize = 8"
   ]
  },
  {
   "cell_type": "markdown",
   "metadata": {},
   "source": [
    "# 路徑設定"
   ]
  },
  {
   "cell_type": "code",
   "execution_count": null,
   "metadata": {},
   "outputs": [],
   "source": [
    "# repeat = '0'  ##### remember to change repeat if you don't want file being overwritten\n",
    "# file_name = 'Leakage_test_S%s_%s_to_%s_repeat_%s_at_%s'%(pin,min_V,max_V, repeat,date.today())##儲存的檔名 \n",
    "# folder_path = 'C:/Users/USER/Sean/2020-11-06 QD leakage test/' \n",
    "# print('檔名會叫做 >> %s'%file_name) \n",
    "\n",
    "# overwrite = 'Y' ## 避免重複執行時資料覆蓋 In case of inadvertent overwrite\n",
    "# if os.path.isfile('%s%s.txt'%(folder_path,file_name))==True:\n",
    "#     overwrite = input('Do you want to overwtite the existing file? >>> Y/N  ')\n",
    "# if overwrite == 'Y':\n",
    "#     file_name = file_name\n",
    "# else:\n",
    "#     file_name = 'AAAAAAAA'\n",
    "#     print(\"please create a new file\")\n",
    "#     raise RuntimeError('!!!!  File exsit, please name a new file  !!!!')"
   ]
  },
  {
   "cell_type": "markdown",
   "metadata": {},
   "source": [
    "# 執行量測"
   ]
  },
  {
   "cell_type": "code",
   "execution_count": null,
   "metadata": {
    "scrolled": true
   },
   "outputs": [],
   "source": [
    "# k236_source_1.GOTO(min_V, step, delay_time, comp, range_m = 0, reset_compliance=False)\n",
    "# print(\"Source drain goes to starting value...\")\n",
    "# print(\"Initialize K236...\")\n",
    "# k236_source_1.INITIALIZE('SVMI', comp, 0, min_V)  ###(SM, compliance, range_m, init_value=0.0)\n",
    "# current_measure_xx = np.zeros((len(voltage_min_to_max), N_ave+1)) #製造0矩陣以放入量測數據 creating a zero's array for data input\n",
    "# plt.figure(figsize=(3,3), dpi=200)\n",
    "# plt.xlim([min_V,max_V])\n",
    "#     #plt.xlim([0,max_I])\n",
    "\n",
    "# print(\"Apply source drain...\")\n",
    "# start = time.time()\n",
    "# for index_V, voltage in enumerate(tqdm(voltage_min_to_max)):\n",
    "#         k236_source_1.GOTO(voltage, step, delay_time, comp, range_m = 0, reset_compliance=False) \n",
    "#         time.sleep(measure_wait_time)\n",
    "#         Sum_of_current = 0\n",
    "#         # do measurement\n",
    "#         for n in range(N_ave+1):\n",
    "#             if n == N_ave:\n",
    "#                 current_measure_xx[index_V,n] = Sum_of_current/float(N_ave) #加上平均數值 caculating the average\n",
    "#             else: \n",
    "#                 current_measure_xx[index_V,n] = k236_source_1.READ_OUT('M', print_out=False)\n",
    "#                 Sum_of_current += current_measure_xx[index_V,n]\n",
    "# #                 print(n,current_measure_xx[index_V,n],Sum_of_current)\n",
    "# #                 temperature_record[index_V,n] = triton.GET_CURRENT_TEMPERATURE(control_channel)\n",
    "#                 time.sleep(0.05)\n",
    "\n",
    "#         if (index_V%drawing_resolution==0):\n",
    "#             display.clear_output(wait=True)\n",
    "#             plt.plot(voltage_min_to_max[:index_V+1] , current_measure_xx[:index_V+1,N_ave-1], c='r')#, label='$\\\\rho_{xy} pin 2-11$')\n",
    "# #             plt.ylim([voltage_measure.min(),voltage_measure.max()])\n",
    "#             plt.xlabel(\"$V$ (V)\")\n",
    "#             plt.xticks(fontsize=fontsize)\n",
    "#             plt.ylabel(\"$I$ (A)\")\n",
    "#             plt.yticks(fontsize=fontsize)\n",
    "#             display.display(plt.gcf())\n",
    "# #             print(\"Current temperature is %.4f K.\"%triton.GET_CURRENT_TEMPERATURE(control_channel))\n",
    "# time.sleep(0.01)\n",
    "# display.clear_output(wait=True) ##把圖片清乾淨 Obviously clearing the output\n",
    "# plt.plot(voltage_min_to_max[:index_V+1] , current_measure_xx[:index_V+1,N_ave-1], c='r')#, label='$\\\\rho_{xy} pin 2-11$')\n",
    "# #             plt.ylim([voltage_measure.min(),voltage_measure.max()])\n",
    "# plt.xlabel(\"$V$ (V)\")\n",
    "# plt.xticks(fontsize=fontsize)\n",
    "# plt.ylabel(\"$I$ (A)\")\n",
    "# plt.yticks(fontsize=fontsize)\n",
    "# display.display(plt.gcf())\n",
    "# print(\"Measurement ends. Returning to ZERO...\")\n",
    "# stop = time.time()\n",
    "# T=(stop-start)/60\n",
    "# k236_source_1.GOTO(0.0, step, delay_time, reset_compliance=False)\n",
    "# display.clear_output(wait=True)\n",
    "# print(\"Voltage is now at zero :)\")\n",
    "# print('這次量測花費了 %f 分鐘'%T)\n",
    "\n",
    "# ## 將資料存成.txt\n",
    "# raw_data = np.hstack((voltage_min_to_max.reshape(-1,1), current_measure_xx))\n",
    "# data = np.hstack((voltage_min_to_max.reshape(-1,1), current_measure_xx[:,[-1]]))\n",
    "\n",
    "# np.savetxt(\"%sraw_data%s.txt\" %(folder_path,file_name),raw_data, fmt=\"%.8e\", \\\n",
    "#            header='V(V)\\tI(A)*%d\\tI_avg'%(N_ave))\n",
    "\n",
    "# np.savetxt('%s%s.txt'%(folder_path,file_name),data, fmt=\"%.8e\",comments='',\\\n",
    "#            header='V\\tId_avg_of_%s\\\n",
    "#            \\n(V)\\t(A)\\\n",
    "#            \\nfrom%sVto%sV\\tpin_number%s\\tresolution_%s(V)\\tmeasure_wait_time_%s\\tgoto_step_%s\\tdelay_time_goto_%s'\n",
    "#            %(N_ave,min_V,max_V,pin,(max_V-min_V)/data_points,measure_wait_time,step,delay_time))\n",
    "\n",
    "# k236_source_1.GOTO(0.0, step, delay_time, comp, range_m = 0, reset_compliance=False)"
   ]
  },
  {
   "cell_type": "code",
   "execution_count": null,
   "metadata": {},
   "outputs": [],
   "source": [
    "# a,b=0,0\n",
    "# def CONDUCTANCE(x,a,b):\n",
    "#     return a*x+b\n",
    "# current = current_measure_xx[:,[-1]].flatten()\n",
    "# popt, pcov = curve_fit(CONDUCTANCE, current, voltage_min_to_max)\n",
    "# print(\"Differential Conductance is %.13f S\\nDifferentialResistance is %.6f Ω.\" %(1/popt[0],popt[0]))"
   ]
  },
  {
   "cell_type": "markdown",
   "metadata": {},
   "source": [
    "## 包起來"
   ]
  },
  {
   "cell_type": "code",
   "execution_count": null,
   "metadata": {},
   "outputs": [],
   "source": [
    "def leak(pin):\n",
    "    repeat = '0'  ##### remember to change repeat if you don't want file being overwritten\n",
    "    file_name = 'Leakage_test_S%s_%s_to_%s_repeat_%s_at_%s'%(pin,min_V,max_V, repeat,date.today())##儲存的檔名 \n",
    "    folder_path = 'C:/Users/USER/Sean/resistance test for ppt/'    ##2020-11-06 QD leakage test/' \n",
    "    print('檔名會叫做 >> %s'%file_name) \n",
    "\n",
    "    overwrite = 'Y' ## 避免重複執行時資料覆蓋 In case of inadvertent overwrite\n",
    "    if os.path.isfile('%s%s.txt'%(folder_path,file_name))==True:\n",
    "        overwrite = input('Do you want to overwtite the existing file? >>> Y/N  ')\n",
    "    if overwrite == 'Y':\n",
    "        file_name = file_name\n",
    "    else:\n",
    "        file_name = 'AAAAAAAA'\n",
    "        print(\"please create a new file\")\n",
    "        raise RuntimeError('!!!!  File exsit, please name a new file  !!!!')\n",
    "\n",
    "    k236_source_1.GOTO(min_V, step, delay_time, comp, range_m = 0, reset_compliance=False)\n",
    "    print(\"Source drain goes to starting value...\")\n",
    "    print(\"Initialize K236...\")\n",
    "    k236_source_1.INITIALIZE('SVMI', comp, 0, min_V)  ###(SM, compliance, range_m, init_value=0.0)\n",
    "    current_measure_xx = np.zeros((len(voltage_min_to_max), N_ave+1)) #製造0矩陣以放入量測數據 creating a zero's array for data input\n",
    "    plt.figure(figsize=(3,3), dpi=200)\n",
    "    plt.xlim([min_V,max_V])\n",
    "        #plt.xlim([0,max_I])\n",
    "\n",
    "    print(\"Apply source drain...\")\n",
    "    start = time.time()\n",
    "    for index_V, voltage in enumerate(tqdm(voltage_min_to_max)):\n",
    "            k236_source_1.GOTO(voltage, step, delay_time, comp, range_m = 0, reset_compliance=False) \n",
    "            time.sleep(measure_wait_time)\n",
    "            Sum_of_current = 0\n",
    "            # do measurement\n",
    "            for n in range(N_ave+1):\n",
    "                if n == N_ave:\n",
    "                    current_measure_xx[index_V,n] = Sum_of_current/float(N_ave) #加上平均數值 caculating the average\n",
    "                else: \n",
    "                    current_measure_xx[index_V,n] = k236_source_1.READ_OUT('M', print_out=False)\n",
    "                    Sum_of_current += current_measure_xx[index_V,n]\n",
    "    #                 print(n,current_measure_xx[index_V,n],Sum_of_current)\n",
    "    #                 temperature_record[index_V,n] = triton.GET_CURRENT_TEMPERATURE(control_channel)\n",
    "                    time.sleep(0.05)\n",
    "\n",
    "            if (index_V%drawing_resolution==0):\n",
    "                display.clear_output(wait=True)\n",
    "                plt.plot(voltage_min_to_max[:index_V+1] , current_measure_xx[:index_V+1,N_ave-1], c='r')#, label='$\\\\rho_{xy} pin 2-11$')\n",
    "    #             plt.ylim([voltage_measure.min(),voltage_measure.max()])\n",
    "                plt.xlabel(\"$V$ (V)\")\n",
    "                plt.xticks(fontsize=fontsize)\n",
    "                plt.ylabel(\"$I$ (A)\")\n",
    "                plt.yticks(fontsize=fontsize)\n",
    "                display.display(plt.gcf())\n",
    "    #             print(\"Current temperature is %.4f K.\"%triton.GET_CURRENT_TEMPERATURE(control_channel))\n",
    "    time.sleep(0.01)\n",
    "    display.clear_output(wait=True) ##把圖片清乾淨 Obviously clearing the output\n",
    "    plt.plot(voltage_min_to_max[:index_V+1] , current_measure_xx[:index_V+1,N_ave-1], c='r')#, label='$\\\\rho_{xy} pin 2-11$')\n",
    "    #             plt.ylim([voltage_measure.min(),voltage_measure.max()])\n",
    "    plt.xlabel(\"$V$ (V)\")\n",
    "    plt.xticks(fontsize=fontsize)\n",
    "    plt.ylabel(\"$I$ (A)\")\n",
    "    plt.yticks(fontsize=fontsize)\n",
    "    display.display(plt.gcf())\n",
    "    print(\"Measurement ends. Returning to ZERO...\")\n",
    "    stop = time.time()\n",
    "    T=(stop-start)/60\n",
    "    k236_source_1.GOTO(0.0, step, delay_time, reset_compliance=False)\n",
    "    display.clear_output(wait=True)\n",
    "    print(\"Voltage is now at zero :)\")\n",
    "    print('這次量測花費了 %f 分鐘'%T)\n",
    "\n",
    "    ## 將資料存成.txt\n",
    "    raw_data = np.hstack((voltage_min_to_max.reshape(-1,1), current_measure_xx))\n",
    "    data = np.hstack((voltage_min_to_max.reshape(-1,1), current_measure_xx[:,[-1]]))\n",
    "\n",
    "    np.savetxt(\"%sraw_data%s.txt\" %(folder_path,file_name),raw_data, fmt=\"%.8e\", \\\n",
    "               header='V(V)\\tI(A)*%d\\tI_avg'%(N_ave))\n",
    "\n",
    "    np.savetxt('%s%s.txt'%(folder_path,file_name),data, fmt=\"%.8e\",comments='',\\\n",
    "               header='V\\tId_avg_of_%s\\\n",
    "               \\n(V)\\t(A)\\\n",
    "               \\nfrom%sVto%sV\\tpin_number%s\\tresolution_%s(V)\\tmeasure_wait_time_%s\\tgoto_step_%s\\tdelay_time_goto_%s'\n",
    "               %(N_ave,min_V,max_V,pin,(max_V-min_V)/data_points,measure_wait_time,step,delay_time))\n",
    "\n",
    "    k236_source_1.GOTO(0.0, step, delay_time, comp, range_m = 0, reset_compliance=False)    \n",
    "\n",
    "    a,b=1e9,0\n",
    "    def CONDUCTANCE(x,a,b):\n",
    "        return a*x+b\n",
    "    current = current_measure_xx[:,[-1]].flatten()\n",
    "    popt, pcov = curve_fit(CONDUCTANCE, current, voltage_min_to_max)\n",
    "    #popt, pcov = curve_fit(lambda x : a*x+b, current, voltage_min_to_max)\n",
    "    print(\"Differential Conductance is %.13f S\\nDifferentialResistance is %.6f Ω.\" %(1/popt[0],popt[0]))\n",
    "    return (pin)"
   ]
  },
  {
   "cell_type": "markdown",
   "metadata": {},
   "source": [
    "# 上面全跑一次然後按這裡就好 leak(pin#)"
   ]
  },
  {
   "cell_type": "code",
   "execution_count": null,
   "metadata": {},
   "outputs": [],
   "source": [
    "leak(0)"
   ]
  },
  {
   "cell_type": "markdown",
   "metadata": {},
   "source": [
    "## 手動歸零"
   ]
  },
  {
   "cell_type": "code",
   "execution_count": null,
   "metadata": {},
   "outputs": [],
   "source": [
    "k236_source_1.GOTO(0.0, step, delay_time, comp, range_m = 0, reset_compliance=False)"
   ]
  },
  {
   "cell_type": "code",
   "execution_count": null,
   "metadata": {},
   "outputs": [],
   "source": []
  },
  {
   "cell_type": "code",
   "execution_count": null,
   "metadata": {},
   "outputs": [],
   "source": []
  },
  {
   "cell_type": "code",
   "execution_count": null,
   "metadata": {},
   "outputs": [],
   "source": []
  },
  {
   "cell_type": "code",
   "execution_count": null,
   "metadata": {},
   "outputs": [],
   "source": []
  },
  {
   "cell_type": "code",
   "execution_count": 54,
   "metadata": {},
   "outputs": [
    {
     "name": "stdout",
     "output_type": "stream",
     "text": [
      "Voltage is now at zero :)\n",
      "這次量測花費了 0.404746 分鐘\n",
      "Differential Conductance is 1.0000000000000 S\n",
      "DifferentialResistance is 1.000000 Ω.\n"
     ]
    },
    {
     "data": {
      "text/plain": [
       "0"
      ]
     },
     "execution_count": 54,
     "metadata": {},
     "output_type": "execute_result"
    },
    {
     "data": {
      "image/png": "[encoded data removed]",
      "text/plain": [
       "<Figure size 600x600 with 1 Axes>"
      ]
     },
     "metadata": {
      "needs_background": "light"
     },
     "output_type": "display_data"
    }
   ],
   "source": [
    "leak(0)"
   ]
  }
 ],
 "metadata": {
  "kernelspec": {
   "display_name": "Python 3",
   "language": "python",
   "name": "python3"
  },
  "language_info": {
   "codemirror_mode": {
    "name": "ipython",
    "version": 3
   },
   "file_extension": ".py",
   "mimetype": "text/x-python",
   "name": "python",
   "nbconvert_exporter": "python",
   "pygments_lexer": "ipython3",
   "version": "3.7.4"
  }
 },
 "nbformat": 4,
 "nbformat_minor": 2
}
