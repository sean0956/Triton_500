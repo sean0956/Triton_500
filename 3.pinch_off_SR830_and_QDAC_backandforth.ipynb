{
 "cells": [
  {
   "cell_type": "markdown",
   "metadata": {},
   "source": [
    "# 掃Gate量IV "
   ]
  },
  {
   "cell_type": "code",
   "execution_count": 1,
   "metadata": {
    "scrolled": true
   },
   "outputs": [
    {
     "name": "stderr",
     "output_type": "stream",
     "text": [
      "C:\\Users\\USER\\Anaconda3\\lib\\site-packages\\visa.py:23: FutureWarning: The visa module provided by PyVISA is being deprecated. You can replace `import visa` by `import pyvisa as visa` to achieve the same effect.\n",
      "\n",
      "The reason for the deprecation is the possible conflict with the visa package provided by the https://github.com/visa-sdk/visa-python which can result in hard to debug situations.\n",
      "  FutureWarning,\n"
     ]
    },
    {
     "name": "stdout",
     "output_type": "stream",
     "text": [
      "2021-04-20 09:46:51\n"
     ]
    },
    {
     "data": {
      "text/plain": [
       "('ASRL1::INSTR',\n",
       " 'ASRL2::INSTR',\n",
       " 'ASRL3::INSTR',\n",
       " 'ASRL10::INSTR',\n",
       " 'GPIB0::8::INSTR')"
      ]
     },
     "execution_count": 1,
     "metadata": {},
     "output_type": "execute_result"
    }
   ],
   "source": [
    "import numpy as np\n",
    "import pandas as pd\n",
    "import pyvisa as visa\n",
    "import matplotlib.pyplot as plt\n",
    "import my_SR830\n",
    "import os, time, threading, datetime, pymeasure,tqdm\n",
    "\n",
    "from tqdm import trange,tqdm\n",
    "from time import sleep\n",
    "from datetime import date\n",
    "from IPython import display\n",
    "from pymeasure.adapters import VISAAdapter\n",
    "from pathlib import Path\n",
    "\n",
    "import qcodes as qc\n",
    "import qcodes.instrument_drivers.QDevil.QDevil_QDAC as QDac\n",
    "from qcodes.instrument_drivers.QDevil.QDevil_QDAC import Mode\n",
    "\n",
    "print(datetime.datetime.now().strftime(\"%Y-%m-%d %H:%M:%S\"))\n",
    "visa.ResourceManager().list_resources()"
   ]
  },
  {
   "cell_type": "markdown",
   "metadata": {},
   "source": [
    "## 讀取830和QDac"
   ]
  },
  {
   "cell_type": "code",
   "execution_count": 2,
   "metadata": {},
   "outputs": [
    {
     "name": "stdout",
     "output_type": "stream",
     "text": [
      "\n",
      "QDAC succesfully connected ! :)\n",
      "\n",
      "Number of channels:  24\n"
     ]
    }
   ],
   "source": [
    "SR830_GPIB_Addr = 8  ##請檢察GPIB號碼\n",
    "srs_source = my_SR830.MY_SR830(SR830_GPIB_Addr)\n",
    "\n",
    "qdac = QDac.QDac(name='qdac', address='ASRL3::INSTR', update_currents=False)\n",
    "print('\\nQDAC succesfully connected ! :)\\n')\n",
    "print(\"Number of channels: \",qdac.num_chans)"
   ]
  },
  {
   "cell_type": "code",
   "execution_count": 3,
   "metadata": {},
   "outputs": [],
   "source": [
    "# This will query voltages of all channels of a 24 channel QDAC \n",
    "# Note that index 0 refer to channel 01, 1 refer to channel 02 and so on \n",
    "def show_now_all_voltage():\n",
    "    np.set_printoptions(linewidth=1000)  ##for pretty printing\n",
    "    print('Channel Voltage : ')\n",
    "    feed = np.around(np.reshape(np.array(qdac.channels[0:24].v()),(3,8)),decimals=3)\n",
    "    print(feed)\n",
    "    return feed\n",
    "# show_now_all_voltage()\n",
    "# qdac.print_overview(update_currents=False)\n",
    "\n",
    "##For more information see \"QCodes example with QDevil_QDAC\" file\n",
    "\n",
    "def whilegoto(m_gate,volt):\n",
    "    m_gate.v.set(volt)\n",
    "    while abs(volt-m_gate.v.get())>1e-4: \n",
    "        display.clear_output(wait=True)\n",
    "        print(\"Ramping %s voltage to %.6f (V) ...\\ncurrent voltage is %.6f (V)\"%(m_gate,volt,m_gate.v.get()))\n",
    "        m_gate.v.set(volt)\n",
    "        time.sleep(2)\n",
    "    display.clear_output(wait=True)\n",
    "    print(\"Done!\")\n",
    "    print(\"%s is now at %.6f Volts\"%(m_gate,m_gate.v.get()))\n",
    "    return m_gate.v.get()\n",
    "\n",
    "def reshape_for_origin(m_data,m_data_points):\n",
    "    A,B = np.split(m_data,[m_data_points])\n",
    "    C,D = np.split(m_data,[m_data_points-1])\n",
    "    return np.hstack((A,D))"
   ]
  },
  {
   "cell_type": "markdown",
   "metadata": {},
   "source": [
    "## QDAC 設定 "
   ]
  },
  {
   "cell_type": "code",
   "execution_count": 4,
   "metadata": {},
   "outputs": [],
   "source": [
    "QDAC_Channels = {\n",
    "        \"EG3\"  : qdac.ch10,\n",
    "        \"EG4\"  : qdac.ch14,\n",
    "        \"AG1\"  : qdac.ch12,\n",
    "        \"BG3\"  : qdac.ch03,\n",
    "        \"BG4\"  : qdac.ch05,\n",
    "       }"
   ]
  },
  {
   "cell_type": "code",
   "execution_count": 5,
   "metadata": {},
   "outputs": [],
   "source": [
    "EG3  = qdac.ch10\n",
    "EG4  = qdac.ch14\n",
    "AG1  = qdac.ch12\n",
    "BG3  = qdac.ch03\n",
    "BG4  = qdac.ch05"
   ]
  },
  {
   "cell_type": "code",
   "execution_count": 6,
   "metadata": {},
   "outputs": [
    {
     "name": "stdout",
     "output_type": "stream",
     "text": [
      "Channel 3, slope: 0.01 (V/s)\n",
      "Channel 5, slope: 0.01 (V/s)\n",
      "Channel 10, slope: 0.01 (V/s)\n",
      "Channel 12, slope: 0.01 (V/s)\n",
      "Channel 14, slope: 0.01 (V/s)\n"
     ]
    }
   ],
   "source": [
    "# # # # gate.slope('Inf')  ## Careful with this one.\n",
    "# gate.v.set(0.0)\n",
    "# gate.mode(Mode.vlow_ilow)  ## 看要檢查什麼模式. !!!!! pls change mode at 0V !!!!!\n",
    "\n",
    "EG3.mode(Mode.vhigh_ilow)\n",
    "EG4.mode(Mode.vhigh_ilow)\n",
    "AG1.mode(Mode.vhigh_ilow)\n",
    "BG3.mode(Mode.vhigh_ilow)\n",
    "BG4.mode(Mode.vhigh_ilow)\n",
    "\n",
    "# For smooth voltage changes the maximal voltage change (in V/s) may be set for each channel\n",
    "m = 0.01  #### 設定走多快\n",
    "EG3.slope(m)\n",
    "EG4.slope(m)\n",
    "AG1.slope(m)\n",
    "BG3.slope(m)\n",
    "BG4.slope(m)\n",
    "\n",
    "qdac.print_slopes()"
   ]
  },
  {
   "cell_type": "markdown",
   "metadata": {},
   "source": [
    "## 830相關設定"
   ]
  },
  {
   "cell_type": "code",
   "execution_count": 7,
   "metadata": {
    "scrolled": true
   },
   "outputs": [],
   "source": [
    "SD_voltage_apply = 1\n",
    "\n",
    "srs_goto_step = 0.05\n",
    "srs_goto_delay_time=0.5\n",
    "srs_source.input_config = 'A'\n",
    "srs_source.input_grounding = 'Float'\n",
    "srs_source.filter_slope = 24\n",
    "srs_source.frequency = 227.11 # change the lock-in frequency\n",
    "srs_source.time_constant = 0.1 # change the lock-in time constant\n",
    "srs_source.sensitivity = 5e-5 # change the lock-in sensitivity\n",
    "srs_source.channel1 = 'X'\n",
    "srs_source.channel2 = 'Y'\n",
    "\n",
    "srs_source.GOTO(SD_voltage_apply, srs_goto_step, srs_goto_delay_time) #給檢查Sensitivity\n",
    "# srs_source.GOTO(0.004, srs_goto_step, srs_goto_delay_time) #歸零\n",
    "# Lock-in 放大率(到2000需要乘上倍數)\n",
    "# senstivity 2mv = 5000倍\n",
    "# 10V / senstivity"
   ]
  },
  {
   "cell_type": "markdown",
   "metadata": {},
   "source": [
    "## 量測相關設定"
   ]
  },
  {
   "cell_type": "code",
   "execution_count": 8,
   "metadata": {},
   "outputs": [],
   "source": [
    "# gate_voltage_apply_1,n = [],'no input'\n",
    "\n",
    "# min_V = 0.01##2    #initial voltage\n",
    "# max_V = 0  #final voltage\n",
    "# data_points = 11##201 #resolution for one sweep (min_V to max_V)\n",
    "\n",
    "# forth = np.linspace(min_V, max_V,data_points)\n",
    "# back = np.flip(forth,0)\n",
    "\n",
    "# gate_voltage_apply_1 = forth\n",
    "# gate_voltage_apply_1 = np.append(gate_voltage_apply_1[:-1],back)\n",
    "\n",
    "# gate_voltage_apply_2 = min_V ## for all the other gates.\n",
    "\n",
    "# print(\"\\n掃過的電壓值如下\")\n",
    "# np.set_printoptions(linewidth=101)\n",
    "# print(gate_voltage_apply_1)\n",
    "# print('A total of %i elements'%gate_voltage_apply_1.size)\n",
    "\n",
    "# measure_wait_time = 1  #電壓到時等一段時間穩定後再量測\n",
    "# delay_time = 0.1    #每次調變所等待的時間\n",
    "\n",
    "# N_ave = 2##6 #在一個電壓職重複量測幾次\n",
    "# ave_wait = 0.5##1 #Lock-in 要等0.5秒才能再量\n",
    "# fontsize = 8\n",
    "# drawing_resolution = 10\n",
    "\n",
    "# #分壓比例(Source Drain SR830)\n",
    "# divider_ratio= 1e-5\n",
    "# #放大器比例(Source Drain SR830)\n",
    "# Amplifier_gain= 1e5"
   ]
  },
  {
   "cell_type": "markdown",
   "metadata": {},
   "source": [
    "## 初始化所有閘級(全部都先到min_V)"
   ]
  },
  {
   "cell_type": "code",
   "execution_count": 12,
   "metadata": {
    "scrolled": true
   },
   "outputs": [],
   "source": [
    "gate_voltage_apply_2 = 0.7 ##, for all the other gates.\n",
    "EG3.v.set(gate_voltage_apply_2)\n",
    "EG4.v.set(gate_voltage_apply_2)\n",
    "AG1.v.set(gate_voltage_apply_2)\n",
    "BG3.v.set(gate_voltage_apply_2)\n",
    "BG4.v.set(gate_voltage_apply_2)"
   ]
  },
  {
   "cell_type": "code",
   "execution_count": 14,
   "metadata": {},
   "outputs": [
    {
     "name": "stdout",
     "output_type": "stream",
     "text": [
      "Channel Voltage : \n",
      "[[-0.  -0.   0.7 -0.   0.7  0.  -0.   0. ]\n",
      " [-0.   0.7  0.   0.7  0.   0.7  0.   0. ]\n",
      " [ 0.  -0.   0.   0.  -0.  -0.   0.   0. ]]\n"
     ]
    }
   ],
   "source": [
    "for i in range(10):\n",
    "    display.clear_output(wait=True)\n",
    "    show_now_all_voltage()\n",
    "    time.sleep(0.5)"
   ]
  },
  {
   "cell_type": "markdown",
   "metadata": {},
   "source": [
    "## 路徑設定"
   ]
  },
  {
   "cell_type": "code",
   "execution_count": null,
   "metadata": {
    "scrolled": true
   },
   "outputs": [],
   "source": [
    "# repeat = 0\n",
    "# ## ! ! ! ! ! ! ! ! ! ! ##\n",
    "# pin_name = 'AG1'  ############################## 要輸入要量測的閘級\n",
    "# ## ! ! ! ! ! ! ! ! ! ! ##\n",
    "# folder_path = \"C:/Users/USER/Sean/2021-04-16 QD pinchoff/\" ##儲存的地方\n",
    "# file_name = '%s_pinch_off_backandforth_others_at_%sV_repeat%s_at_%s'\\\n",
    "#     %(pin_name, gate_voltage_apply_2, repeat, date.today())##儲存的檔名\n",
    "\n",
    "# print('檔名會叫做 >> %s'%file_name)\n",
    "\n",
    "# overwrite = 'Y'\n",
    "# if os.path.isfile('%s%s.txt'%(folder_path,file_name))==True:\n",
    "#     overwrite = input('Do you want to overwtite the existing file? >>> Y/N  ')\n",
    "# if overwrite == 'Y'or 'y':\n",
    "#     file_name = file_name\n",
    "# else:\n",
    "#     file_name = '##'\n",
    "#     print(\"please create a new file\")\n",
    "#     raise RuntimeError('!!!!  File exsit, please name a new file  !!!!')"
   ]
  },
  {
   "cell_type": "markdown",
   "metadata": {},
   "source": [
    "## 選擇要調控閘極"
   ]
  },
  {
   "cell_type": "code",
   "execution_count": null,
   "metadata": {
    "scrolled": true
   },
   "outputs": [],
   "source": [
    "# gate = QDAC_Channels[pin_name]   ##選擇要調控的輸出端子\n",
    "# print(\"Controling ...\")\n",
    "# print(gate)\n",
    "# gate.v.get()\n",
    "\n",
    "# gate.mode(Mode.vhigh_ilow)\n",
    "# print(\"\\nGate mode :\")\n",
    "# print(gate.mode.cache().get_label())\n",
    "\n",
    "# gate.slope(m)"
   ]
  },
  {
   "cell_type": "code",
   "execution_count": null,
   "metadata": {
    "scrolled": false
   },
   "outputs": [],
   "source": [
    "# whilegoto(gate,gate_voltage_apply_1[0]-0.01)\n",
    "# time.sleep(1)\n",
    "# print('Voltage before measurement was ...')\n",
    "# show_now_all_voltage()"
   ]
  },
  {
   "cell_type": "markdown",
   "metadata": {},
   "source": [
    "## 開始量測"
   ]
  },
  {
   "cell_type": "code",
   "execution_count": null,
   "metadata": {},
   "outputs": [],
   "source": [
    "# current_measure_xx = np.zeros((len(gate_voltage_apply_1), N_ave+1)) #製造0矩陣以放入量測數據\n",
    "# conductance_measure_xx = np.zeros((len(gate_voltage_apply_1), N_ave+1))\n",
    "# current_qdac_measure_xx = np.zeros((len(gate_voltage_apply_1), N_ave+1))\n",
    "# voltage_qdac_measure_xx = np.zeros((len(gate_voltage_apply_1), N_ave+1))\n",
    "\n",
    "# plt.figure(figsize=(3,3), dpi=200)  ##create empty graph\n",
    "# plt.xlim([min_V,max_V])\n",
    "    \n",
    "# start = time.time()\n",
    "# print(\"Apply Gate voltage...\")\n",
    "# for index_V, voltage in enumerate(tqdm(gate_voltage_apply_1)): #####開始掃GATE(P1)並量測記錄\n",
    "    \n",
    "#     gate.v.set(voltage)\n",
    "# #     time.sleep(0.5)\n",
    "# #     now_v = gate.v.get()\n",
    "# #     if abs(voltage-now_v)>1e-4:\n",
    "# #         gate.v.set(voltage)\n",
    "# #         time.sleep(1)\n",
    "#     time.sleep(measure_wait_time)  ## wait a while before measurement\n",
    "    \n",
    "#     Sum_of_current, Sum_of_conductance, Sum_of_current_qdac,  Sum_of_voltage_qdac = 0, 0, 0, 0\n",
    "    \n",
    "#     ###量測################################################################\n",
    "# #         print(\"measuring at %.6f ...\"%qdac.ch01.v.get()) ## For cheking measuring output\n",
    "#     for n in range(N_ave):\n",
    "\n",
    "#         current_measure_xx[index_V,n] = srs_source.x/Amplifier_gain   ##讀取Lock_in的值  絕對值:srs_source.magnitude\n",
    "#         conductance_measure_xx[index_V,n] = srs_source.x/Amplifier_gain/(SD_voltage_apply*divider_ratio)\n",
    "#         current_qdac_measure_xx[index_V,n] = gate.i()\n",
    "#         voltage_qdac_measure_xx[index_V,n] = gate.v.get()\n",
    "\n",
    "#         Sum_of_current += current_measure_xx[index_V,n]\n",
    "#         Sum_of_conductance += conductance_measure_xx[index_V,n]\n",
    "#         Sum_of_current_qdac += current_qdac_measure_xx[index_V,n]\n",
    "#         Sum_of_voltage_qdac += voltage_qdac_measure_xx[index_V,n]\n",
    "\n",
    "#         time.sleep(ave_wait) ## Lockin delay at least 0.5s\n",
    "\n",
    "#     current_measure_xx[index_V,N_ave] = Sum_of_current/float(N_ave) #加上平均數值\n",
    "#     conductance_measure_xx[index_V,N_ave] = Sum_of_conductance/float(N_ave) #加上平均數值\n",
    "#     current_qdac_measure_xx[index_V,N_ave] = Sum_of_current_qdac/float(N_ave)\n",
    "#     voltage_qdac_measure_xx[index_V,N_ave] = Sum_of_voltage_qdac/float(N_ave)\n",
    "        \n",
    "#     ####畫圖################################################################\n",
    "#     if (index_V%drawing_resolution==0):\n",
    "#         display.clear_output(wait=True)\n",
    "\n",
    "#         plt.subplot(4,1, 1)\n",
    "#         plt.plot(gate_voltage_apply_1[:index_V+1] , current_measure_xx[:index_V+1,N_ave], c='r')#, label='$\\\\rho_{xy} pin 2-11$')\n",
    "# #           plt.ylim([voltage_measure.min(),voltage_measure.max()])\n",
    "#         plt.xlabel(\"$V$ (V)\")\n",
    "#         plt.xticks(fontsize=fontsize)\n",
    "#         plt.ylabel(\"$I$ (A)\")\n",
    "#         plt.yticks(fontsize=fontsize)\n",
    "\n",
    "#         plt.subplot(4,1, 2)\n",
    "#         plt.plot(gate_voltage_apply_1[:index_V+1] , conductance_measure_xx[:index_V+1,N_ave], c='r')#, label='$\\\\rho_{xy} pin 2-11$')\n",
    "# #           plt.ylim([voltage_measure.min(),voltage_measure.max()])\n",
    "#         plt.xlabel(\"$V$ (V)\")\n",
    "#         plt.xticks(fontsize=fontsize)\n",
    "#         plt.ylabel(\"$G$ (S)\")\n",
    "#         plt.yticks(fontsize=fontsize)\n",
    "#         display.display(plt.gcf())\n",
    "# #             print(\"Current temperature is %.4f K.\"%triton.GET_CURRENT_TEMPERATURE(control_channel))\n",
    "# time.sleep(0.01)\n",
    "# print(\"Measurement ends.\")\n",
    "\n",
    "# display.clear_output(wait=True)\n",
    "\n",
    "# plt.subplot(4,1, 1)\n",
    "# plt.plot(gate_voltage_apply_1 , current_measure_xx[:,N_ave], c='r')#, label='$\\\\rho_{xy} pin 2-11$')\n",
    "# #plt.ylim([voltage_measure.min(),voltage_measure.max()])\n",
    "# plt.xlabel(\"$V$ (V)\")\n",
    "# plt.xticks(fontsize=fontsize)\n",
    "# plt.ylabel(\"$I$ (A)\")\n",
    "# plt.yticks(fontsize=fontsize)\n",
    "\n",
    "# plt.subplot(4,1, 2)\n",
    "# plt.plot(gate_voltage_apply_1 , conductance_measure_xx[:,N_ave], c='r')#, label='$\\\\rho_{xy} pin 2-11$')\n",
    "# #plt.ylim([voltage_measure.min(),voltage_measure.max()])\n",
    "# plt.xlabel(\"$V$ (V)\")\n",
    "# plt.xticks(fontsize=fontsize)\n",
    "# plt.ylabel(\"$G$ (S)\")\n",
    "# plt.yticks(fontsize=fontsize)\n",
    "# # plt.savefig('%s/Rxx.png'%folder_path[index_current],bbox_inches='tight', dpi=200, pad_inches=0.05) ##存圖片\n",
    "# display.display(plt.gcf())\n",
    "\n",
    "# stop = time.time()\n",
    "# T=(stop-start)/60\n",
    "\n",
    "# print(\"Measurement ends.\")\n",
    "# print('這次量測花費了 %f 分鐘'%T)\n",
    "# print(\"DONE!!!\")"
   ]
  },
  {
   "cell_type": "code",
   "execution_count": null,
   "metadata": {},
   "outputs": [],
   "source": [
    "# voltage_log = np.hstack((gate_voltage_apply_1.reshape(-1,1), voltage_qdac_measure_xx[:, -1].reshape(-1,1),\n",
    "#                          gate_voltage_apply_1.reshape(-1,1)-voltage_qdac_measure_xx[:, -1].reshape(-1,1),\n",
    "#                          (gate_voltage_apply_1.reshape(-1,1)-voltage_qdac_measure_xx[:, -1].reshape(-1,1))/gate_voltage_apply_1.reshape(-1,1)*100))\n",
    "\n",
    "# raw_data = np.hstack((voltage_qdac_measure_xx, current_measure_xx, conductance_measure_xx,\n",
    "#                       current_qdac_measure_xx,gate_voltage_apply_1.reshape(-1,1)))\n",
    "\n",
    "# data = np.hstack((voltage_qdac_measure_xx[:,[-1]], current_measure_xx[:,[-1]], conductance_measure_xx[:,[-1]], \n",
    "#                   current_qdac_measure_xx[:,[-1]], gate_voltage_apply_1.reshape(-1,1)))\n",
    "\n",
    "# data = reshape_for_origin(data, data_points)\n",
    "\n",
    "# np.savetxt(\"%svoltage_log%s.txt\" %(folder_path,file_name),voltage_log,comments='', fmt=\"%.8e\", \\\n",
    "#            header='v_set\\tv_actual\\terror\\terror_percentage\\\n",
    "#            \\n(V)\\t(V)\\t(V)\\t(%)')\n",
    "\n",
    "# np.savetxt(\"%sraw_data%s.txt\" %(folder_path,file_name),raw_data,comments='', fmt=\"%.8e\", \\\n",
    "#            header='V\\tI*%d\\tI_avg\\tG*%d\\tG_avg\\tV_set\\\n",
    "#            \\n(V)\\t(A)\\t(A)\\t(S)\\t(s)\\t(V)'%(N_ave,N_ave))\n",
    "\n",
    "# np.savetxt('%s%s.txt'%(folder_path,file_name),data, fmt=\"%.8e\",comments='',\\\n",
    "#            header='Vag\\tId_avg_of_%s\\tG_avg_of_%s\\tQDACcurrent\\tV_set \\\n",
    "#            \\n(V)\\t(A)\\t(S)\\t(A)\\V_set(V)\\\n",
    "#            \\nfrom%sVto%sV\\tresolution_%.4f(V)\\t%s\\tleakage_current\\tset_V\\tback_to_%s\\tback_to_%s\\tback_to_%s\\tback_to_%s\\tback_to_%s\\t%spoints\\tmeasure_wait_time_%s\\tslope_%s'\\\n",
    "#            %(N_ave,N_ave,\\\n",
    "#                          \\\n",
    "#              min_V,max_V,(max_V-min_V)/(data_points-1),pin_name,min_V,min_V,min_V,min_V,min_V,data_points,measure_wait_time,m))\n"
   ]
  },
  {
   "cell_type": "markdown",
   "metadata": {},
   "source": [
    "# 如有需要檢查電壓輸出可使用"
   ]
  },
  {
   "cell_type": "code",
   "execution_count": null,
   "metadata": {},
   "outputs": [],
   "source": [
    "# pd.set_option('display.max_rows', None)\n",
    "# pd.DataFrame(voltage_log,columns=['v_set', 'v_actual', 'error','error_rate (%)'])"
   ]
  },
  {
   "cell_type": "code",
   "execution_count": null,
   "metadata": {},
   "outputs": [],
   "source": [
    "# np.set_printoptions(precision=3)\n",
    "# arr = (gate_voltage_apply_1.reshape(-1,1)-voltage_qdac_measure_xx[:, -1].reshape(-1,1))\\\n",
    "# /gate_voltage_apply_1.reshape(-1,1)*100 \n",
    "# #### 調 decimal 當作判斷標準 可以知道有幾組電壓誤差超過此標準\n",
    "# pd.DataFrame(np.around(arr,decimals=3),columns=['error_rate (%)'])  ## Ctrl+F 0.000 for quick find"
   ]
  },
  {
   "cell_type": "markdown",
   "metadata": {},
   "source": [
    "# 包一包"
   ]
  },
  {
   "cell_type": "code",
   "execution_count": 15,
   "metadata": {},
   "outputs": [],
   "source": [
    "def pinch(gate_name, repeat=0):\n",
    "\n",
    "    gate_voltage_apply_1,n = [],'no input'\n",
    "\n",
    "    min_V = 0.7    #initial voltage\n",
    "    max_V = -1.3   #final voltage\n",
    "    data_points = 201 #resolution for one sweep (min_V to max_V)\n",
    "\n",
    "    forth = np.linspace(min_V, max_V,data_points)\n",
    "    back = np.flip(forth,0)\n",
    "\n",
    "    gate_voltage_apply_1 = forth\n",
    "    gate_voltage_apply_1 = np.append(gate_voltage_apply_1[:-1],back)\n",
    "    gate_voltage_apply_2 = min_V ## for all the other gates.\n",
    "    measure_wait_time = 1  #電壓到時等一段時間穩定後再量測\n",
    "\n",
    "    N_ave = 6 #在一個電壓職重複量測幾次\n",
    "    ave_wait = 1 #Lock-in 要等0.5秒才能再量\n",
    "    fontsize = 8\n",
    "    drawing_resolution = 10\n",
    "\n",
    "    divider_ratio= 1e-5 #分壓比例(Source Drain SR830)\n",
    "    Amplifier_gain= 1e5 #放大器比例(Source Drain SR830)\n",
    "\n",
    "    ###################################################################################################################\n",
    "    pin_name = gate_name  \n",
    "    folder_path = \"C:/Users/USER/Sean/2021-04-16 QD pinchoff/\" ##儲存的地方\n",
    "    file_name = '%s_pinch_off_backandforth_others_at_%sV_repeat%s_at_%s'\\\n",
    "        %(pin_name, gate_voltage_apply_2, repeat, date.today())##儲存的檔名\n",
    "\n",
    "    print('檔名會叫做 >> %s'%file_name)\n",
    "\n",
    "    overwrite = 'Y'\n",
    "    if os.path.isfile('%s%s.txt'%(folder_path,file_name))==True:\n",
    "        overwrite = input('Do you want to overwtite the existing file? >>> Y/N  ')\n",
    "    if overwrite == 'Y'or 'y':\n",
    "        file_name = file_name\n",
    "    else:\n",
    "        file_name = '##'\n",
    "        print(\"please create a new file\")\n",
    "        raise RuntimeError('!!!!  File exsit, please name a new file  !!!!')\n",
    "\n",
    "    ###################################################################################################################\n",
    "    gate = QDAC_Channels[pin_name]   ##選擇要調控的輸出端子\n",
    "    gate.mode(Mode.vhigh_ilow)\n",
    "    whilegoto(gate,min_V-0.01)\n",
    "    ###################################################################################################################\n",
    "    current_measure_xx = np.zeros((len(gate_voltage_apply_1), N_ave+1)) #製造0矩陣以放入量測數據\n",
    "    conductance_measure_xx = np.zeros((len(gate_voltage_apply_1), N_ave+1))\n",
    "    current_qdac_measure_xx = np.zeros((len(gate_voltage_apply_1), N_ave+1))\n",
    "    voltage_qdac_measure_xx = np.zeros((len(gate_voltage_apply_1), N_ave+1))\n",
    "\n",
    "    plt.figure(figsize=(3,3), dpi=200)  ##create empty graph\n",
    "    plt.xlim([min_V,max_V])\n",
    "    V_before = show_now_all_voltage()\n",
    "    start = time.time()\n",
    "    print(\"Apply Gate voltage...\")\n",
    "    for index_V, voltage in enumerate(tqdm(gate_voltage_apply_1)): #####開始掃GATE(P1)並量測記錄\n",
    "\n",
    "        gate.v.set(voltage)\n",
    "        time.sleep(0.5)\n",
    "        while abs(voltage-gate.v.get())>1e-4: \n",
    "            gate.v.set(voltage)\n",
    "            time.sleep(1)\n",
    "        time.sleep(measure_wait_time)  ## wait a while before measurement\n",
    "\n",
    "        Sum_of_current, Sum_of_conductance, Sum_of_current_qdac,  Sum_of_voltage_qdac = 0, 0, 0, 0\n",
    "\n",
    "        ###量測################################################################\n",
    "        for n in range(N_ave):\n",
    "\n",
    "            current_measure_xx[index_V,n] = srs_source.x/Amplifier_gain   ##讀取Lock_in的值  絕對值:srs_source.magnitude\n",
    "            conductance_measure_xx[index_V,n] = srs_source.x/Amplifier_gain/(SD_voltage_apply*divider_ratio)\n",
    "            current_qdac_measure_xx[index_V,n] = gate.i()\n",
    "            voltage_qdac_measure_xx[index_V,n] = gate.v.get()\n",
    "#             print(show_now_all_voltage())\n",
    "            Sum_of_current += current_measure_xx[index_V,n]\n",
    "            Sum_of_conductance += conductance_measure_xx[index_V,n]\n",
    "            Sum_of_current_qdac += current_qdac_measure_xx[index_V,n]\n",
    "            Sum_of_voltage_qdac += voltage_qdac_measure_xx[index_V,n]\n",
    "\n",
    "            time.sleep(ave_wait) ## Lockin delay at least 0.5s\n",
    "\n",
    "        current_measure_xx[index_V,N_ave] = Sum_of_current/float(N_ave) #加上平均數值\n",
    "        conductance_measure_xx[index_V,N_ave] = Sum_of_conductance/float(N_ave) #加上平均數值\n",
    "        current_qdac_measure_xx[index_V,N_ave] = Sum_of_current_qdac/float(N_ave)\n",
    "        voltage_qdac_measure_xx[index_V,N_ave] = Sum_of_voltage_qdac/float(N_ave)\n",
    "\n",
    "        ####畫圖################################################################\n",
    "        if (index_V%drawing_resolution==0):\n",
    "            display.clear_output(wait=True)\n",
    "\n",
    "            plt.subplot(4,1, 1)\n",
    "            plt.plot(gate_voltage_apply_1[:index_V+1] , current_measure_xx[:index_V+1,N_ave], c='r')#, label='$\\\\rho_{xy} pin 2-11$')\n",
    "    #           plt.ylim([voltage_measure.min(),voltage_measure.max()])\n",
    "            plt.xlabel(\"$V$ (V)\")\n",
    "            plt.xticks(fontsize=fontsize)\n",
    "            plt.ylabel(\"$I$ (A)\")\n",
    "            plt.yticks(fontsize=fontsize)\n",
    "\n",
    "            plt.subplot(4,1, 2)\n",
    "            plt.plot(gate_voltage_apply_1[:index_V+1] , conductance_measure_xx[:index_V+1,N_ave], c='r')#, label='$\\\\rho_{xy} pin 2-11$')\n",
    "    #           plt.ylim([voltage_measure.min(),voltage_measure.max()])\n",
    "            plt.xlabel(\"$V$ (V)\")\n",
    "            plt.xticks(fontsize=fontsize)\n",
    "            plt.ylabel(\"$G$ (S)\")\n",
    "            plt.yticks(fontsize=fontsize)\n",
    "            display.display(plt.gcf())\n",
    "    #             print(\"Current temperature is %.4f K.\"%triton.GET_CURRENT_TEMPERATURE(control_channel))\n",
    "    time.sleep(0.01)\n",
    "    display.clear_output(wait=True)\n",
    "    \n",
    "    plt.subplot(4,1, 1)\n",
    "    plt.plot(gate_voltage_apply_1 , current_measure_xx[:,N_ave], c='r')#, label='$\\\\rho_{xy} pin 2-11$')\n",
    "    #plt.ylim([voltage_measure.min(),voltage_measure.max()])\n",
    "    plt.xlabel(\"$V$ (V)\")\n",
    "    plt.xticks(fontsize=fontsize)\n",
    "    plt.ylabel(\"$I$ (A)\")\n",
    "    plt.yticks(fontsize=fontsize)\n",
    "\n",
    "    plt.subplot(4,1, 2)\n",
    "    plt.plot(gate_voltage_apply_1 , conductance_measure_xx[:,N_ave], c='r')#, label='$\\\\rho_{xy} pin 2-11$')\n",
    "    #plt.ylim([voltage_measure.min(),voltage_measure.max()])\n",
    "    plt.xlabel(\"$V$ (V)\")\n",
    "    plt.xticks(fontsize=fontsize)\n",
    "    plt.ylabel(\"$G$ (S)\")\n",
    "    plt.yticks(fontsize=fontsize)\n",
    "    # plt.savefig('%s/Rxx.png'%folder_path[index_current],bbox_inches='tight', dpi=200, pad_inches=0.05) ##存圖片\n",
    "    display.display(plt.gcf())\n",
    "\n",
    "    ###################################################################################################################\n",
    "    voltage_log = np.hstack((gate_voltage_apply_1.reshape(-1,1), voltage_qdac_measure_xx[:, -1].reshape(-1,1),\n",
    "                             gate_voltage_apply_1.reshape(-1,1)-voltage_qdac_measure_xx[:, -1].reshape(-1,1),\n",
    "                             (gate_voltage_apply_1.reshape(-1,1)-voltage_qdac_measure_xx[:, -1].reshape(-1,1))/gate_voltage_apply_1.reshape(-1,1)*100))\n",
    "\n",
    "    raw_data = np.hstack((voltage_qdac_measure_xx, current_measure_xx, conductance_measure_xx,\n",
    "                          current_qdac_measure_xx,gate_voltage_apply_1.reshape(-1,1)))\n",
    "\n",
    "    data = np.hstack((voltage_qdac_measure_xx[:,[-1]], current_measure_xx[:,[-1]], conductance_measure_xx[:,[-1]], \n",
    "                      current_qdac_measure_xx[:,[-1]], gate_voltage_apply_1.reshape(-1,1)))\n",
    "\n",
    "    data = reshape_for_origin(data, data_points)\n",
    "\n",
    "    np.savetxt(\"%svoltage_log%s.txt\" %(folder_path,file_name),voltage_log,comments='', fmt=\"%.8e\", \\\n",
    "               header='v_set\\tv_actual\\terror\\terror_percentage\\\n",
    "               \\n(V)\\t(V)\\t(V)\\t(%)')\n",
    "\n",
    "    np.savetxt(\"%sraw_data%s.txt\" %(folder_path,file_name),raw_data,comments='', fmt=\"%.8e\", \\\n",
    "               header='V\\tI*%d\\tI_avg\\tG*%d\\tG_avg\\tV_set\\\n",
    "               \\n(V)\\t(A)\\t(A)\\t(S)\\t(s)\\t(V)'%(N_ave,N_ave))\n",
    "\n",
    "    np.savetxt('%s%s.txt'%(folder_path,file_name),data, fmt=\"%.8e\",comments='',\\\n",
    "               header='Vag\\tId_avg_of_%s\\tG_avg_of_%s\\tQDACcurrent\\tV_set \\\n",
    "               \\n(V)\\t(A)\\t(S)\\t(A)\\V_set(V)\\\n",
    "               \\nfrom%sVto%sV\\tresolution_%.4f(V)\\t%s\\tleakage_current\\tset_V\\tback_to_%s\\tback_to_%s\\tback_to_%s\\tback_to_%s\\tback_to_%s\\t%spoints\\tmeasure_wait_time_%s\\tslope_%s'\\\n",
    "               %(N_ave,N_ave,\\\n",
    "                             \\\n",
    "                 min_V,max_V,(max_V-min_V)/(data_points-1),pin_name,min_V,min_V,min_V,min_V,min_V,data_points,measure_wait_time,m))\n",
    "\n",
    "\n",
    "    ###################################################################################################################\n",
    "    stop = time.time()\n",
    "    T=(stop-start)/60\n",
    "    V_after = show_now_all_voltage()\n",
    "    display.clear_output(wait=True)\n",
    "    print(\"Measurement ends.\\n這次量測花費了 %f 分鐘\\nDONE!!!\\n\"%T)\n",
    "    print(\"Voltage before measurement : \")\n",
    "    print(V_before)\n",
    "    print(\"Voltage after measurement : \")\n",
    "    print(V_after)\n",
    "    show_now_all_voltage()"
   ]
  },
  {
   "cell_type": "code",
   "execution_count": 16,
   "metadata": {},
   "outputs": [
    {
     "name": "stdout",
     "output_type": "stream",
     "text": [
      "Channel Voltage : \n",
      "[[-0.  -0.   0.7 -0.   0.7  0.  -0.   0. ]\n",
      " [-0.   0.7  0.   0.7  0.   0.7  0.   0. ]\n",
      " [ 0.  -0.   0.   0.  -0.  -0.   0.   0. ]]\n"
     ]
    },
    {
     "data": {
      "text/plain": [
       "array([[-0. , -0. ,  0.7, -0. ,  0.7,  0. , -0. ,  0. ],\n",
       "       [-0. ,  0.7,  0. ,  0.7,  0. ,  0.7,  0. ,  0. ],\n",
       "       [ 0. , -0. ,  0. ,  0. , -0. , -0. ,  0. ,  0. ]])"
      ]
     },
     "execution_count": 16,
     "metadata": {},
     "output_type": "execute_result"
    }
   ],
   "source": [
    "show_now_all_voltage()"
   ]
  },
  {
   "cell_type": "code",
   "execution_count": null,
   "metadata": {},
   "outputs": [
    {
     "data": {
      "image/png": "[encoded data removed]",
      "text/plain": [
       "<Figure size 600x600 with 2 Axes>"
      ]
     },
     "metadata": {},
     "output_type": "display_data"
    },
    {
     "name": "stderr",
     "output_type": "stream",
     "text": [
      "100%|█████████████████████████████████████████████████████████████████████████████▌| 399/401 [1:15:28<00:22, 11.00s/it]"
     ]
    }
   ],
   "source": [
    "pinch('AG1')"
   ]
  },
  {
   "cell_type": "code",
   "execution_count": null,
   "metadata": {},
   "outputs": [],
   "source": [
    "pinch('BG3')"
   ]
  },
  {
   "cell_type": "code",
   "execution_count": null,
   "metadata": {},
   "outputs": [],
   "source": [
    "pinch('BG4')"
   ]
  },
  {
   "cell_type": "code",
   "execution_count": null,
   "metadata": {},
   "outputs": [],
   "source": [
    "pinch('EG3')"
   ]
  },
  {
   "cell_type": "code",
   "execution_count": null,
   "metadata": {},
   "outputs": [],
   "source": [
    "pinch('EG4')"
   ]
  },
  {
   "cell_type": "code",
   "execution_count": null,
   "metadata": {},
   "outputs": [],
   "source": [
    "pinch('AG1',1)"
   ]
  },
  {
   "cell_type": "code",
   "execution_count": null,
   "metadata": {},
   "outputs": [],
   "source": [
    "pinch('BG3',1)"
   ]
  },
  {
   "cell_type": "code",
   "execution_count": null,
   "metadata": {},
   "outputs": [],
   "source": [
    "pinch('BG4',1)"
   ]
  },
  {
   "cell_type": "code",
   "execution_count": null,
   "metadata": {},
   "outputs": [],
   "source": [
    "pinch('EG3',1)"
   ]
  },
  {
   "cell_type": "code",
   "execution_count": null,
   "metadata": {},
   "outputs": [],
   "source": [
    "pinch('EG4',1)"
   ]
  },
  {
   "cell_type": "markdown",
   "metadata": {},
   "source": [
    "## 手動歸零"
   ]
  },
  {
   "cell_type": "code",
   "execution_count": null,
   "metadata": {},
   "outputs": [],
   "source": [
    "set_v = 0.0 ## for all the other gates.\n",
    "\n",
    "EG3.v.set(set_v)\n",
    "EG4.v.set(set_v)\n",
    "AG1.v.set(set_v)\n",
    "BG3.v.set(set_v)\n",
    "BG4.v.set(set_v)"
   ]
  },
  {
   "cell_type": "code",
   "execution_count": null,
   "metadata": {},
   "outputs": [],
   "source": [
    "for i in range(5):\n",
    "    display.clear_output(wait=True)\n",
    "    show_now_all_voltage()\n",
    "    time.sleep(0.5)"
   ]
  }
 ],
 "metadata": {
  "kernelspec": {
   "display_name": "Python 3",
   "language": "python",
   "name": "python3"
  },
  "language_info": {
   "codemirror_mode": {
    "name": "ipython",
    "version": 3
   },
   "file_extension": ".py",
   "mimetype": "text/x-python",
   "name": "python",
   "nbconvert_exporter": "python",
   "pygments_lexer": "ipython3",
   "version": "3.7.4"
  }
 },
 "nbformat": 4,
 "nbformat_minor": 2
}
