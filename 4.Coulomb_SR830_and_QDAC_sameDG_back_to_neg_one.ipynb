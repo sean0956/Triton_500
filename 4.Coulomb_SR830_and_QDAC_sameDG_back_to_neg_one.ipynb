{
 "cells": [
  {
   "cell_type": "markdown",
   "metadata": {},
   "source": [
    "# 掃Gate量IV "
   ]
  },
  {
   "cell_type": "code",
   "execution_count": 1,
   "metadata": {},
   "outputs": [
    {
     "name": "stderr",
     "output_type": "stream",
     "text": [
      "C:\\Users\\USER\\Anaconda3\\lib\\site-packages\\visa.py:23: FutureWarning: The visa module provided by PyVISA is being deprecated. You can replace `import visa` by `import pyvisa as visa` to achieve the same effect.\n",
      "\n",
      "The reason for the deprecation is the possible conflict with the visa package provided by the https://github.com/visa-sdk/visa-python which can result in hard to debug situations.\n",
      "  FutureWarning,\n"
     ]
    },
    {
     "name": "stdout",
     "output_type": "stream",
     "text": [
      "2021-04-20 11:35:35\n"
     ]
    },
    {
     "data": {
      "text/plain": [
       "('ASRL1::INSTR',\n",
       " 'ASRL2::INSTR',\n",
       " 'ASRL3::INSTR',\n",
       " 'ASRL10::INSTR',\n",
       " 'GPIB0::8::INSTR')"
      ]
     },
     "execution_count": 1,
     "metadata": {},
     "output_type": "execute_result"
    }
   ],
   "source": [
    "import numpy as np\n",
    "import pandas as pd\n",
    "import pyvisa as visa\n",
    "import matplotlib.pyplot as plt\n",
    "import my_SR830\n",
    "import os, time, threading, datetime, pymeasure,tqdm\n",
    "\n",
    "from tqdm import trange,tqdm\n",
    "from time import sleep\n",
    "from datetime import date\n",
    "from IPython import display\n",
    "from pymeasure.adapters import VISAAdapter\n",
    "from pathlib import Path\n",
    "\n",
    "import qcodes as qc\n",
    "import qcodes.instrument_drivers.QDevil.QDevil_QDAC as QDac\n",
    "from qcodes.instrument_drivers.QDevil.QDevil_QDAC import Mode\n",
    "\n",
    "print(datetime.datetime.now().strftime(\"%Y-%m-%d %H:%M:%S\"))\n",
    "visa.ResourceManager().list_resources()"
   ]
  },
  {
   "cell_type": "markdown",
   "metadata": {},
   "source": [
    "## 讀取830和QDac"
   ]
  },
  {
   "cell_type": "code",
   "execution_count": 2,
   "metadata": {},
   "outputs": [
    {
     "name": "stdout",
     "output_type": "stream",
     "text": [
      "\n",
      "QDAC succesfully connected ! :)\n",
      "\n",
      "Number of channels:  24\n"
     ]
    }
   ],
   "source": [
    "SR830_GPIB_Addr = 8  ##請檢察GPIB號碼\n",
    "srs_source = my_SR830.MY_SR830(SR830_GPIB_Addr)\n",
    "\n",
    "qdac = QDac.QDac(name='qdac', address='ASRL3::INSTR', update_currents=False)\n",
    "print('\\nQDAC succesfully connected ! :)\\n')\n",
    "print(\"Number of channels: \",qdac.num_chans)"
   ]
  },
  {
   "cell_type": "code",
   "execution_count": 3,
   "metadata": {},
   "outputs": [],
   "source": [
    "# This will query voltages of all channels of a 24 channel QDAC \n",
    "# Note that index 0 refer to channel 01, 1 refer to channel 02 and so on \n",
    "def show_now_all_voltage():\n",
    "    np.set_printoptions(linewidth=1000)  ##for pretty printing\n",
    "    print('Channel Voltage : ')\n",
    "    feed = np.around(np.reshape(np.array(qdac.channels[0:24].v()),(3,8)),decimals=3)\n",
    "    print(feed)\n",
    "    return feed\n",
    "# qdac.print_overview(update_currents=False)\n",
    "\n",
    "##For more information see \"QCodes example with QDevil_QDAC\" file\n",
    "\n",
    "\n",
    "def whilegoto(m_gate,volt):\n",
    "    m_gate.v.set(volt)\n",
    "    while abs(volt-m_gate.v.get())>1e-4: \n",
    "        display.clear_output(wait=True)\n",
    "        print(\"Ramping %s voltage to %.6f (V) ...\\ncurrent voltage is %.6f (V)\"%(m_gate,volt,m_gate.v.get()))\n",
    "        m_gate.v.set(volt)\n",
    "        time.sleep(2)\n",
    "    display.clear_output(wait=True)\n",
    "    print(\"Done!\")\n",
    "    print(\"%s is now at %.6f Volts\"%(m_gate,m_gate.v.get()))\n",
    "    return m_gate.v.get()\n",
    "\n",
    "\n",
    "def reshape_for_origin(m_data,m_data_points):\n",
    "    A,B = np.split(m_data,[m_data_points])\n",
    "    C,D = np.split(m_data,[m_data_points-1])\n",
    "    return np.hstack((A,D))\n",
    "\n",
    "\n",
    "def All_Goto(AG=-1,BG=-1,EG=-1):\n",
    "    preramp_voltage_array = np.around(np.delete(\n",
    "            np.array(qdac.channels[0:24].v()),[0,1,3,5,6,7,8,10,12,14,15,16,17,18,19,20,21,22,23])\n",
    "                                                ,decimals=4)\n",
    "    EG3.v.set(EG)\n",
    "    EG4.v.set(EG)\n",
    "    AG1.v.set(AG)\n",
    "    BG3.v.set(BG)\n",
    "    BG4.v.set(BG)\n",
    "    time.sleep(2)\n",
    "    while 1:\n",
    "        later_voltage_array = np.around(np.delete(\n",
    "            np.array(qdac.channels[0:24].v()),[0,1,3,5,6,7,8,10,12,14,15,16,17,18,19,20,21,22,23])\n",
    "                                                ,decimals=4)\n",
    "\n",
    "        if np.size(np.where(preramp_voltage_array == later_voltage_array))>=1:\n",
    "            EG3.v.set(EG)\n",
    "            EG4.v.set(EG)\n",
    "            AG1.v.set(AG)\n",
    "            BG3.v.set(BG)\n",
    "            BG4.v.set(BG)\n",
    "            time.sleep(1)\n",
    "        else: break\n",
    "\n",
    "    while abs(EG3.v.get()-EG)>1e-4:\n",
    "        display.clear_output(wait=True)\n",
    "        show_now_all_voltage()\n",
    "        EG3.v.set(EG)\n",
    "        time.sleep(1)\n",
    "    \n",
    "    whilegoto(EG3,EG)\n",
    "    whilegoto(EG4,EG)\n",
    "    whilegoto(AG1,AG)\n",
    "    whilegoto(BG3,BG)\n",
    "    whilegoto(BG4,BG)\n",
    "    print('Done !')\n",
    "    show_now_all_voltage()"
   ]
  },
  {
   "cell_type": "markdown",
   "metadata": {},
   "source": [
    "## QDAC 設定 "
   ]
  },
  {
   "cell_type": "code",
   "execution_count": 4,
   "metadata": {},
   "outputs": [],
   "source": [
    "EG3  = qdac.ch10\n",
    "EG4  = qdac.ch14\n",
    "AG1  = qdac.ch12\n",
    "BG3  = qdac.ch03\n",
    "BG4  = qdac.ch05"
   ]
  },
  {
   "cell_type": "code",
   "execution_count": 5,
   "metadata": {},
   "outputs": [],
   "source": [
    "# QDAC_Channels = {\n",
    "#         \"EG3\"  : qdac.ch10,\n",
    "#         \"EG4\"  : qdac.ch14,\n",
    "#         \"AG1\"  : qdac.ch12,\n",
    "#         \"BG3\"  : qdac.ch03,\n",
    "#         \"BG4\"  : qdac.ch05,\n",
    "#        }"
   ]
  },
  {
   "cell_type": "code",
   "execution_count": 6,
   "metadata": {},
   "outputs": [
    {
     "name": "stdout",
     "output_type": "stream",
     "text": [
      "Channel 3, slope: 0.01 (V/s)\n",
      "Channel 5, slope: 0.01 (V/s)\n",
      "Channel 10, slope: 0.01 (V/s)\n",
      "Channel 12, slope: 0.01 (V/s)\n",
      "Channel 14, slope: 0.01 (V/s)\n"
     ]
    }
   ],
   "source": [
    "# # # # gate.slope('Inf')  ## Careful with this one.\n",
    "# gate.v.set(0.0)\n",
    "# gate.mode(Mode.vlow_ilow)  ## 看要檢查什麼模式. !!!!! pls change mode at 0V !!!!!\n",
    "\n",
    "EG3.mode(Mode.vhigh_ilow)\n",
    "EG4.mode(Mode.vhigh_ilow)\n",
    "AG1.mode(Mode.vhigh_ilow)\n",
    "BG3.mode(Mode.vhigh_ilow)\n",
    "BG4.mode(Mode.vhigh_ilow)\n",
    "\n",
    "# For smooth voltage changes the maximal voltage change (in V/s) may be set for each channel\n",
    "m = 0.01  #### 設定走多快\n",
    "EG3.slope(m)\n",
    "EG4.slope(m)\n",
    "AG1.slope(m)\n",
    "BG3.slope(m)\n",
    "BG4.slope(m)\n",
    "\n",
    "qdac.print_slopes()"
   ]
  },
  {
   "cell_type": "code",
   "execution_count": 7,
   "metadata": {},
   "outputs": [
    {
     "name": "stdout",
     "output_type": "stream",
     "text": [
      "Sweeping with : <QDacChannel: qdac_chan12 of QDac: qdac>\n",
      "\t\tGate mode : V range high / I range low\n",
      "\n",
      "Barriers with : <QDacChannel: qdac_chan03 of QDac: qdac>  and  <QDacChannel: qdac_chan05 of QDac: qdac>\n"
     ]
    }
   ],
   "source": [
    "##Plunger (Tuned gate)\n",
    "gate = AG1   ##選擇要調控的輸出端子\n",
    "print(\"Sweeping with :\",gate)  ##確認調控的閘極\n",
    "gate.mode(Mode.vhigh_ilow) ### Set mode and slope again just to make sure.\n",
    "gate.slope(m)\n",
    "print(\"\\t\\tGate mode :\",gate.mode.cache().get_label())\n",
    "\n",
    "##Barrier\n",
    "BarrierLeft = BG3  ####Choose the barriers in use\n",
    "BarrierRight = BG4\n",
    "print(\"\\nBarriers with :\",BarrierLeft,\" and \",BarrierRight)"
   ]
  },
  {
   "cell_type": "markdown",
   "metadata": {},
   "source": [
    "## 830相關設定"
   ]
  },
  {
   "cell_type": "code",
   "execution_count": 8,
   "metadata": {},
   "outputs": [],
   "source": [
    "SD_voltage_apply = 1\n",
    "\n",
    "srs_goto_step = 0.05\n",
    "srs_goto_delay_time=0.5\n",
    "srs_source.input_config = 'A'\n",
    "srs_source.input_grounding = 'Float'\n",
    "srs_source.filter_slope = 24\n",
    "srs_source.frequency = 227.11 # change the lock-in frequency\n",
    "srs_source.time_constant = 0.1 # change the lock-in time constant\n",
    "srs_source.sensitivity = 2e-5 # change the lock-in sensitivity\n",
    "srs_source.channel1 = 'X'\n",
    "srs_source.channel2 = 'Y'\n",
    "\n",
    "# srs_source.GOTO(SD_voltage_apply, srs_goto_step, srs_goto_delay_time) #給檢查Sensitivity\n",
    "# srs_source.GOTO(0.004, srs_goto_step, srs_goto_delay_time) #歸零\n",
    "# Lock-in 放大率(到2000需要乘上倍數)\n",
    "# senstivity 2mv = 5000倍\n",
    "# 10V / senstivity"
   ]
  },
  {
   "cell_type": "markdown",
   "metadata": {},
   "source": [
    "# 包一包"
   ]
  },
  {
   "cell_type": "code",
   "execution_count": 9,
   "metadata": {},
   "outputs": [],
   "source": [
    "def same(BG,rep=0):\n",
    "    ####量測相關設定###############################################################################################\n",
    "    m_gate_voltage_apply_1,n = [],'no input'\n",
    "    \n",
    "    EG = 0.8\n",
    "    \n",
    "    m_min_V = 0.0        #initial voltage\n",
    "    m_max_V = 2.0        #final voltage\n",
    "    m_data_points = 401      #resolution for one sweep (m_min_V to m_max_V)\n",
    "\n",
    "    forth = np.linspace(m_min_V, m_max_V,m_data_points)\n",
    "    back = np.flip(forth,0)\n",
    "    m_gate_voltage_apply_1 = forth\n",
    "    m_gate_voltage_apply_1 = np.append(m_gate_voltage_apply_1[:-1],back)\n",
    "\n",
    "    measure_wait_time = 1  #電壓到時等一段時間穩定後再量測\n",
    "\n",
    "    N_ave = 6 #在一個電壓職重複量測幾次\n",
    "    ave_wait = 1 #Lock-in 要等0.5秒才能再量\n",
    "    fontsize = 8\n",
    "    drawing_resolution = 10\n",
    "    divider_ratio= 1e-5 #分壓比例(Source Drain SR830)\n",
    "    Amplifier_gain= 1e5 #放大器比例(Source Drain SR830)\n",
    "    \n",
    "    ####路徑設定#####################################################################################################\n",
    "    repeat = rep\n",
    "    folder_path = \"C:/Users/USER/Sean/2021-04-20 sameBG/\"##\"C:/Users/USER/Sean/2021-03-25 sameBG/\" ##儲存的地方\n",
    "    file_name = 'BG_%sV_sameBG_repeat%s_at_%s'%(BG, repeat,date.today())##儲存的檔名\n",
    "    print('檔名會叫做 >> %s'%file_name) \n",
    "\n",
    "    overwrite = 'Y'\n",
    "    if os.path.isfile('%s%s.txt'%(folder_path,file_name))==True:\n",
    "        overwrite = input('Do you want to overwtite the existing file? >>> Y/N  ')\n",
    "    if overwrite == 'Y'or 'y':\n",
    "        file_name = file_name\n",
    "    else:\n",
    "        file_name = '##'\n",
    "        print(\"please create a new file\")\n",
    "        raise RuntimeError('!!!!  File exsit, please name a new file  !!!!')\n",
    "\n",
    "    ####調整Barrier和AG電壓##############################################################################################\n",
    "    All_Goto(m_min_V,BG,EG)\n",
    "#     whilegoto(BarrierLeft,BG)\n",
    "#     whilegoto(BarrierRight,BG)\n",
    "    whilegoto(gate,m_gate_voltage_apply_1[0]-0.001)\n",
    "    time.sleep(1)\n",
    "    print('Voltage before measurement was ...')\n",
    "    V_before = show_now_all_voltage()\n",
    "\n",
    "    ####開始量測迴圈######################################################################################################\n",
    "    current_measure_xx = np.zeros((len(m_gate_voltage_apply_1), N_ave+1)) #製造0矩陣以放入量測數據\n",
    "    conductance_measure_xx = np.zeros((len(m_gate_voltage_apply_1), N_ave+1))\n",
    "    current_qdac_measure_xx = np.zeros((len(m_gate_voltage_apply_1), N_ave+1))\n",
    "    voltage_qdac_measure_xx = np.zeros((len(m_gate_voltage_apply_1), N_ave+1))\n",
    "    plt.figure(figsize=(3,3), dpi=200)  ##create empty graph\n",
    "    plt.xlim([m_min_V,m_max_V])\n",
    "\n",
    "    start = time.time()\n",
    "    print(\"Apply Gate voltage...\")\n",
    "    for index_V, voltage in enumerate(tqdm(m_gate_voltage_apply_1)): #####開始掃GATE(P1)並量測記錄\n",
    "        \n",
    "        gate.v.set(voltage)\n",
    "        time.sleep(0.5)\n",
    "        while abs(voltage-gate.v.get())>1e-4: \n",
    "            gate.v.set(voltage)\n",
    "            time.sleep(1)\n",
    "\n",
    "        time.sleep(measure_wait_time)  ## wait a while before measurement\n",
    "        Sum_of_current, Sum_of_conductance, Sum_of_current_qdac,  Sum_of_voltage_qdac = 0, 0, 0, 0\n",
    "\n",
    "        ###量測################################################################\n",
    "        for n in range(N_ave):\n",
    "            current_measure_xx[index_V,n] = srs_source.x/Amplifier_gain   ##讀取Lock_in的值  絕對值:srs_source.magnitude\n",
    "            conductance_measure_xx[index_V,n] = srs_source.x/Amplifier_gain/(SD_voltage_apply*divider_ratio)\n",
    "            current_qdac_measure_xx[index_V,n] = gate.i()\n",
    "            voltage_qdac_measure_xx[index_V,n] = gate.v.get()\n",
    "\n",
    "            Sum_of_current += current_measure_xx[index_V,n]\n",
    "            Sum_of_conductance += conductance_measure_xx[index_V,n]\n",
    "            Sum_of_current_qdac += current_qdac_measure_xx[index_V,n]\n",
    "            Sum_of_voltage_qdac += voltage_qdac_measure_xx[index_V,n]\n",
    "\n",
    "            time.sleep(ave_wait) ## Lockin delay at least 0.5s\n",
    "\n",
    "        current_measure_xx[index_V,N_ave] = Sum_of_current/float(N_ave) #加上平均數值\n",
    "        conductance_measure_xx[index_V,N_ave] = Sum_of_conductance/float(N_ave) #加上平均數值\n",
    "        current_qdac_measure_xx[index_V,N_ave] = Sum_of_current_qdac/float(N_ave)\n",
    "        voltage_qdac_measure_xx[index_V,N_ave] = Sum_of_voltage_qdac/float(N_ave)\n",
    "\n",
    "        ####畫圖################################################################\n",
    "        if (index_V%drawing_resolution==0):\n",
    "            display.clear_output(wait=True)\n",
    "\n",
    "            plt.subplot(4,1, 1)\n",
    "            plt.plot(m_gate_voltage_apply_1[:index_V+1] , current_measure_xx[:index_V+1,N_ave], c='r')#, label='$\\\\rho_{xy} pin 2-11$')\n",
    "            plt.xlabel(\"$V$ (V)\")\n",
    "            plt.xticks(fontsize=fontsize)\n",
    "            plt.ylabel(\"$I$ (A)\")\n",
    "            plt.yticks(fontsize=fontsize)\n",
    "\n",
    "            plt.subplot(4,1, 2)\n",
    "            plt.plot(m_gate_voltage_apply_1[:index_V+1] , conductance_measure_xx[:index_V+1,N_ave], c='r')#, label='$\\\\rho_{xy} pin 2-11$')\n",
    "            plt.xlabel(\"$V$ (V)\")\n",
    "            plt.xticks(fontsize=fontsize)\n",
    "            plt.ylabel(\"$G$ (S)\")\n",
    "            plt.yticks(fontsize=fontsize)\n",
    "            display.display(plt.gcf())\n",
    "\n",
    "    time.sleep(0.01)\n",
    "    print(\"Measurement ends.\")\n",
    "    display.clear_output(wait=True)\n",
    "\n",
    "    plt.subplot(4,1, 1)\n",
    "    plt.plot(m_gate_voltage_apply_1 , current_measure_xx[:,N_ave], c='r')#, label='$\\\\rho_{xy} pin 2-11$')\n",
    "    #plt.ylim([voltage_measure.min(),voltage_measure.max()])\n",
    "    plt.xlabel(\"$V$ (V)\")\n",
    "    plt.xticks(fontsize=fontsize)\n",
    "    plt.ylabel(\"$I$ (A)\")\n",
    "    plt.yticks(fontsize=fontsize)\n",
    "\n",
    "    plt.subplot(4,1, 2)\n",
    "    plt.plot(m_gate_voltage_apply_1 , conductance_measure_xx[:,N_ave], c='r')#, label='$\\\\rho_{xy} pin 2-11$')\n",
    "    #plt.ylim([voltage_measure.min(),voltage_measure.max()])\n",
    "    plt.xlabel(\"$V$ (V)\")\n",
    "    plt.xticks(fontsize=fontsize)\n",
    "    plt.ylabel(\"$G$ (S)\")\n",
    "    plt.yticks(fontsize=fontsize)\n",
    "    # plt.savefig('%s/Rxx.png'%folder_path[index_current],bbox_inches='tight', dpi=200, pad_inches=0.05) ##存圖片\n",
    "    display.display(plt.gcf())\n",
    "    \n",
    "    ####存檔############################################################################################################\n",
    "    voltage_log = np.hstack((m_gate_voltage_apply_1.reshape(-1,1), voltage_qdac_measure_xx[:, -1].reshape(-1,1),\n",
    "                             m_gate_voltage_apply_1.reshape(-1,1)-voltage_qdac_measure_xx[:, -1].reshape(-1,1),\n",
    "                             (m_gate_voltage_apply_1.reshape(-1,1)-voltage_qdac_measure_xx[:, -1].reshape(-1,1))/m_gate_voltage_apply_1.reshape(-1,1)*100))\n",
    "\n",
    "    raw_data = np.hstack((voltage_qdac_measure_xx, current_measure_xx, conductance_measure_xx,\n",
    "                          current_qdac_measure_xx,m_gate_voltage_apply_1.reshape(-1,1)))\n",
    "\n",
    "    data = np.hstack((voltage_qdac_measure_xx[:,[-1]], current_measure_xx[:,[-1]], conductance_measure_xx[:,[-1]], \n",
    "                      current_qdac_measure_xx[:,[-1]], m_gate_voltage_apply_1.reshape(-1,1)))\n",
    "    \n",
    "    data = reshape_for_origin(data, m_data_points)\n",
    "\n",
    "    np.savetxt(\"%svoltage_log%s.txt\" %(folder_path,file_name),voltage_log,comments='', fmt=\"%.8e\", \\\n",
    "               header='v_set\\tv_actual\\terror\\terror_percentage\\\n",
    "               \\n(V)\\t(V)\\t(V)\\t(%)')\n",
    "\n",
    "    np.savetxt(\"%sraw_data%s.txt\" %(folder_path,file_name),raw_data,comments='', fmt=\"%.8e\", \\\n",
    "               header='V\\tI*%d\\tI_avg\\tG*%d\\tG_avg\\tV_set\\\n",
    "               \\n(V)\\t(A)\\t(A)\\t(S)\\t(s)\\t(V)'%(N_ave,N_ave))\n",
    "\n",
    "    np.savetxt('%s%s.txt'%(folder_path,file_name),data, fmt=\"%.8e\",comments='',\\\n",
    "               header='Vag\\tId_avg_of_%s\\tG_avg_of_%s\\tQDACcurrent\\tV_set \\\n",
    "               \\n(V)\\t(A)\\t(S)\\t(A)\\V_set(V)\\\n",
    "               \\nfrom%sVto%sV\\tresolution_%.4f(V)\\tBG=%sV\\tleakage_current\\tset_V\\tback_to_%s\\tback_to_%s\\tback_to_%s\\tback_to_%s\\tback_to_%s\\t%spoints\\tmeasure_wait_time_%s\\tslope_%s'\\\n",
    "               %(N_ave,N_ave,\\\n",
    "                             \\\n",
    "                 m_min_V,m_max_V,(m_max_V-m_min_V)/(m_data_points-1),BG,m_min_V,m_min_V,m_min_V,m_min_V,m_min_V,m_data_points,measure_wait_time,m))\n",
    "    \n",
    "    ################################################################################################################\n",
    "    V_after = show_now_all_voltage()\n",
    "    display.clear_output(wait=True)\n",
    "    print('Going back to -1 V ...')\n",
    "    All_Goto()\n",
    "    stop = time.time()\n",
    "    T=(stop-start)/60\n",
    "    display.clear_output(wait=True)\n",
    "    print(\"Measurement ends.\\n這次量測花費了 %f 分鐘\\nDONE!!!\\n\"%T)\n",
    "    print(\"Voltage before measurement : \")\n",
    "    print(V_before)\n",
    "    print(\"Voltage after measurement : \")\n",
    "    print(V_after)\n",
    "    show_now_all_voltage()\n",
    "    time.sleep(10)\n"
   ]
  },
  {
   "cell_type": "markdown",
   "metadata": {},
   "source": [
    "## 輸入需要的 Barrier 電壓  e.g.  run(BG)"
   ]
  },
  {
   "cell_type": "code",
   "execution_count": 27,
   "metadata": {},
   "outputs": [
    {
     "name": "stdout",
     "output_type": "stream",
     "text": [
      "Channel Voltage : \n",
      "[[-0. -0.  0. -0.  0.  0. -0.  0.]\n",
      " [-0. -0.  0. -0.  0.  0.  0.  0.]\n",
      " [ 0. -0.  0.  0. -0. -0.  0.  0.]]\n"
     ]
    }
   ],
   "source": [
    "show_now_all_voltage()\n",
    "display.clear_output(wait=True)\n",
    "## Start measurement from -1V pls"
   ]
  },
  {
   "cell_type": "code",
   "execution_count": null,
   "metadata": {},
   "outputs": [],
   "source": [
    "All_Goto()"
   ]
  },
  {
   "cell_type": "code",
   "execution_count": 26,
   "metadata": {},
   "outputs": [
    {
     "name": "stdout",
     "output_type": "stream",
     "text": [
      "Done!\n",
      "<QDacChannel: qdac_chan05 of QDac: qdac> is now at 0.000000 Volts\n",
      "Done !\n",
      "Channel Voltage : \n",
      "[[-0. -0.  0. -0.  0.  0. -0.  0.]\n",
      " [-0. -0.  0. -0.  0.  0.  0.  0.]\n",
      " [ 0. -0.  0.  0. -0. -0.  0.  0.]]\n"
     ]
    }
   ],
   "source": [
    "All_Goto(0,0,0)"
   ]
  },
  {
   "cell_type": "code",
   "execution_count": null,
   "metadata": {},
   "outputs": [],
   "source": [
    "All_Goto(-0.1,-0.1,-0.1)"
   ]
  },
  {
   "cell_type": "code",
   "execution_count": 24,
   "metadata": {
    "collapsed": true
   },
   "outputs": [
    {
     "name": "stdout",
     "output_type": "stream",
     "text": [
      "Measurement ends.\n",
      "這次量測花費了 139.592446 分鐘\n",
      "DONE!!!\n",
      "\n",
      "Voltage before measurement : \n",
      "[[-0.    -0.    -0.6   -0.    -0.6    0.    -0.     0.   ]\n",
      " [-0.     0.8    0.    -0.001  0.     0.8    0.     0.   ]\n",
      " [ 0.    -0.     0.     0.    -0.    -0.     0.     0.   ]]\n",
      "Voltage after measurement : \n",
      "[[-0.  -0.  -0.6 -0.  -0.6  0.  -0.   0. ]\n",
      " [-0.   0.8  0.  -0.   0.   0.8  0.   0. ]\n",
      " [ 0.  -0.   0.   0.  -0.  -0.   0.   0. ]]\n",
      "Channel Voltage : \n",
      "[[-0. -0. -1. -0. -1.  0. -0.  0.]\n",
      " [-0. -1.  0. -1.  0. -1.  0.  0.]\n",
      " [ 0. -0.  0.  0. -0. -0.  0.  0.]]\n"
     ]
    },
    {
     "data": {
      "image/png": "[encoded data removed]",
      "text/plain": [
       "<Figure size 600x600 with 2 Axes>"
      ]
     },
     "metadata": {
      "needs_background": "light"
     },
     "output_type": "display_data"
    }
   ],
   "source": [
    "same(-0.6)"
   ]
  },
  {
   "cell_type": "code",
   "execution_count": 25,
   "metadata": {},
   "outputs": [
    {
     "name": "stdout",
     "output_type": "stream",
     "text": [
      "Measurement ends.\n",
      "這次量測花費了 140.907140 分鐘\n",
      "DONE!!!\n",
      "\n",
      "Voltage before measurement : \n",
      "[[-0.    -0.    -0.8   -0.    -0.8    0.    -0.     0.   ]\n",
      " [-0.     0.8    0.    -0.001  0.     0.8    0.     0.   ]\n",
      " [ 0.    -0.     0.     0.    -0.    -0.     0.     0.   ]]\n",
      "Voltage after measurement : \n",
      "[[-0.  -0.  -0.8 -0.  -0.8  0.  -0.   0. ]\n",
      " [-0.   0.8  0.  -0.   0.   0.8  0.   0. ]\n",
      " [ 0.  -0.   0.   0.  -0.  -0.   0.   0. ]]\n",
      "Channel Voltage : \n",
      "[[-0. -0. -1. -0. -1.  0. -0.  0.]\n",
      " [-0. -1.  0. -1.  0. -1.  0.  0.]\n",
      " [ 0. -0.  0.  0. -0. -0.  0.  0.]]\n"
     ]
    },
    {
     "data": {
      "image/png": "[encoded data removed]",
      "text/plain": [
       "<Figure size 600x600 with 2 Axes>"
      ]
     },
     "metadata": {
      "needs_background": "light"
     },
     "output_type": "display_data"
    }
   ],
   "source": [
    "same(-0.8)"
   ]
  },
  {
   "cell_type": "code",
   "execution_count": null,
   "metadata": {},
   "outputs": [],
   "source": []
  },
  {
   "cell_type": "markdown",
   "metadata": {},
   "source": [
    "# 如有需要檢查電壓輸出可使用"
   ]
  },
  {
   "cell_type": "code",
   "execution_count": null,
   "metadata": {},
   "outputs": [],
   "source": [
    "# pd.set_option('display.max_rows', None)\n",
    "# pd.DataFrame(voltage_log,columns=['v_set', 'v_actual', 'error','error_rate (%)'])"
   ]
  },
  {
   "cell_type": "code",
   "execution_count": null,
   "metadata": {},
   "outputs": [],
   "source": [
    "# np.set_printoptions(precision=3)\n",
    "# arr = (gate_voltage_apply_1.reshape(-1,1)-voltage_qdac_measure_xx[:, -1].reshape(-1,1))\\\n",
    "# /gate_voltage_apply_1.reshape(-1,1)*100 \n",
    "# #### 調 decimal 當作判斷標準 可以知道有幾組電壓誤差超過此標準\n",
    "# pd.DataFrame(np.around(arr,decimals=3),columns=['error_rate (%)'])  ## Ctrl+F 0.000 for quick find"
   ]
  }
 ],
 "metadata": {
  "kernelspec": {
   "display_name": "Python 3",
   "language": "python",
   "name": "python3"
  },
  "language_info": {
   "codemirror_mode": {
    "name": "ipython",
    "version": 3
   },
   "file_extension": ".py",
   "mimetype": "text/x-python",
   "name": "python",
   "nbconvert_exporter": "python",
   "pygments_lexer": "ipython3",
   "version": "3.7.4"
  },
  "varInspector": {
   "cols": {
    "lenName": 16,
    "lenType": 16,
    "lenVar": 40
   },
   "kernels_config": {
    "python": {
     "delete_cmd_postfix": "",
     "delete_cmd_prefix": "del ",
     "library": "var_list.py",
     "varRefreshCmd": "print(var_dic_list())"
    },
    "r": {
     "delete_cmd_postfix": ") ",
     "delete_cmd_prefix": "rm(",
     "library": "var_list.r",
     "varRefreshCmd": "cat(var_dic_list()) "
    }
   },
   "types_to_exclude": [
    "module",
    "function",
    "builtin_function_or_method",
    "instance",
    "_Feature"
   ],
   "window_display": false
  }
 },
 "nbformat": 4,
 "nbformat_minor": 2
}
