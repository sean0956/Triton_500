{
 "cells": [
  {
   "cell_type": "code",
   "execution_count": 1,
   "metadata": {},
   "outputs": [],
   "source": [
    "import os, importlib, time\n",
    "import numpy as np"
   ]
  },
  {
   "cell_type": "code",
   "execution_count": 2,
   "metadata": {},
   "outputs": [
    {
     "name": "stdout",
     "output_type": "stream",
     "text": [
      "[WinError 3] 系統找不到指定的路徑。: 'C:\\\\Users\\\\User\\\\Lab_Equipments_Control\\\\Device_Library'\n",
      "C:\\Users\\LiangLab\\Device_Library\n"
     ]
    }
   ],
   "source": [
    "cd C:\\Users\\User\\Lab_Equipments_Control\\Device_Library"
   ]
  },
  {
   "cell_type": "code",
   "execution_count": 3,
   "metadata": {},
   "outputs": [
    {
     "ename": "SyntaxError",
     "evalue": "invalid syntax (my_K236.py, line 62)",
     "output_type": "error",
     "traceback": [
      "Traceback \u001b[1;36m(most recent call last)\u001b[0m:\n",
      "  File \u001b[0;32m\"C:\\Users\\User\\Anaconda3\\envs\\mxnet\\lib\\site-packages\\IPython\\core\\interactiveshell.py\"\u001b[0m, line \u001b[0;32m2963\u001b[0m, in \u001b[0;35mrun_code\u001b[0m\n    exec(code_obj, self.user_global_ns, self.user_ns)\n",
      "\u001b[1;36m  File \u001b[1;32m\"<ipython-input-3-ef86ddb4a7a9>\"\u001b[1;36m, line \u001b[1;32m1\u001b[1;36m, in \u001b[1;35m<module>\u001b[1;36m\u001b[0m\n\u001b[1;33m    from my_K236 import my_K236\u001b[0m\n",
      "\u001b[1;36m  File \u001b[1;32m\"C:\\Users\\User\\Lab_Equipments_Control\\Device_Library\\my_K236\\my_K236.py\"\u001b[1;36m, line \u001b[1;32m62\u001b[0m\n\u001b[1;33m    base, exp = str(f'{compliance:.4e}').split('e')\u001b[0m\n\u001b[1;37m                                      ^\u001b[0m\n\u001b[1;31mSyntaxError\u001b[0m\u001b[1;31m:\u001b[0m invalid syntax\n"
     ]
    }
   ],
   "source": [
    "from my_K236 import my_K236\n",
    "from my_SR830 import my_SR830\n",
    "import device_query"
   ]
  },
  {
   "cell_type": "code",
   "execution_count": 5,
   "metadata": {},
   "outputs": [
    {
     "name": "stdout",
     "output_type": "stream",
     "text": [
      "('GPIB0::2::INSTR', 'GPIB0::25::INSTR')\n"
     ]
    }
   ],
   "source": [
    "rm = device_query.GPIB_QUERY()"
   ]
  },
  {
   "cell_type": "code",
   "execution_count": 9,
   "metadata": {},
   "outputs": [],
   "source": [
    "Keithley236_GPIB_Addr = 25  #Keithley 236\n",
    "SR830_GPIB_Addr = 2\n",
    "keithley = rm.open_resource(f'GPIB0::{Keithley236_GPIB_Addr}::INSTR')\n",
    "srs = my_SR830.MY_SR830(SR830_GPIB_Addr)"
   ]
  },
  {
   "cell_type": "code",
   "execution_count": 10,
   "metadata": {},
   "outputs": [
    {
     "name": "stdout",
     "output_type": "stream",
     "text": [
      "Measured is current, value is 9.926000e-05 A.\n"
     ]
    }
   ],
   "source": [
    "K236 = my_K236.KEITHLEY236(keithley, SM = 'SVMI', compliance=1e-3)\n",
    "K236.INITIALIZE(K236.SM, K236.compliance, K236.range_m, init_value = 1.0)\n",
    "I = K236.READ_OUT(mode='M', print_out=True)"
   ]
  },
  {
   "cell_type": "code",
   "execution_count": 11,
   "metadata": {},
   "outputs": [],
   "source": [
    "srs.input_config = 'A - B'\n",
    "srs.input_grounding = 'Float'\n",
    "srs.frequency = 87.0 # change the lock-in frequency\n",
    "srs.time_constant = 1e-1 # change the lock-in time constant\n",
    "srs.sensitivity = 1e-1 # change the lock-in sensitivity\n",
    "srs.sine_voltage = 1.0\n",
    "srs.channel1 = 'X'\n",
    "srs.channel2 = 'Theta'\n",
    "srs.auto_phase() # auto-phase\n",
    "srs.SENSITIVITY_AUTO(1.0)"
   ]
  },
  {
   "cell_type": "code",
   "execution_count": 12,
   "metadata": {},
   "outputs": [],
   "source": [
    "V_g = np.linspace(0, 4, 11)\n",
    "V_sd = np.logspace(-1.5, 0, num=5, base=10)"
   ]
  },
  {
   "cell_type": "code",
   "execution_count": 13,
   "metadata": {
    "scrolled": true
   },
   "outputs": [
    {
     "name": "stdout",
     "output_type": "stream",
     "text": [
      "V_SD = 0.032000 .\n",
      "V_G = 0.000000\tV_measure = 0.029034\tV_theoretical =  0.028748 .\n",
      "V_G = 0.400000\tV_measure = 0.029034\tV_theoretical =  0.028748 .\n",
      "V_G = 0.800000\tV_measure = 0.029034\tV_theoretical =  0.028748 .\n",
      "V_G = 1.200000\tV_measure = 0.029034\tV_theoretical =  0.028748 .\n",
      "V_G = 1.600000\tV_measure = 0.029034\tV_theoretical =  0.028748 .\n",
      "V_G = 2.000000\tV_measure = 0.029034\tV_theoretical =  0.028748 .\n",
      "V_G = 2.400000\tV_measure = 0.029034\tV_theoretical =  0.028748 .\n",
      "V_G = 2.800000\tV_measure = 0.029034\tV_theoretical =  0.028748 .\n",
      "V_G = 3.200000\tV_measure = 0.029034\tV_theoretical =  0.028748 .\n",
      "V_G = 3.600000\tV_measure = 0.029034\tV_theoretical =  0.028748 .\n",
      "V_G = 4.000000\tV_measure = 0.029034\tV_theoretical =  0.028748 .\n",
      "V_SD = 0.074000 .\n",
      "V_G = 0.000000\tV_measure = 0.067055\tV_theoretical =  0.068172 .\n",
      "V_G = 0.400000\tV_measure = 0.067120\tV_theoretical =  0.068172 .\n",
      "V_G = 0.800000\tV_measure = 0.067120\tV_theoretical =  0.068172 .\n",
      "V_G = 1.200000\tV_measure = 0.067124\tV_theoretical =  0.068172 .\n",
      "V_G = 1.600000\tV_measure = 0.067124\tV_theoretical =  0.068172 .\n",
      "V_G = 2.000000\tV_measure = 0.067124\tV_theoretical =  0.068172 .\n",
      "V_G = 2.400000\tV_measure = 0.067124\tV_theoretical =  0.068172 .\n",
      "V_G = 2.800000\tV_measure = 0.067124\tV_theoretical =  0.068172 .\n",
      "V_G = 3.200000\tV_measure = 0.067124\tV_theoretical =  0.068172 .\n",
      "V_G = 3.600000\tV_measure = 0.067120\tV_theoretical =  0.068172 .\n",
      "V_G = 4.000000\tV_measure = 0.067120\tV_theoretical =  0.068172 .\n",
      "V_SD = 0.178000 .\n",
      "V_G = 0.000000\tV_measure = 0.161233\tV_theoretical =  0.161662 .\n",
      "V_G = 0.400000\tV_measure = 0.161386\tV_theoretical =  0.161662 .\n",
      "V_G = 0.800000\tV_measure = 0.161386\tV_theoretical =  0.161662 .\n",
      "V_G = 1.200000\tV_measure = 0.161378\tV_theoretical =  0.161662 .\n",
      "V_G = 1.600000\tV_measure = 0.161386\tV_theoretical =  0.161662 .\n",
      "V_G = 2.000000\tV_measure = 0.161386\tV_theoretical =  0.161662 .\n",
      "V_G = 2.400000\tV_measure = 0.161386\tV_theoretical =  0.161662 .\n",
      "V_G = 2.800000\tV_measure = 0.161386\tV_theoretical =  0.161662 .\n",
      "V_G = 3.200000\tV_measure = 0.161386\tV_theoretical =  0.161662 .\n",
      "V_G = 3.600000\tV_measure = 0.161378\tV_theoretical =  0.161662 .\n",
      "V_G = 4.000000\tV_measure = 0.161386\tV_theoretical =  0.161662 .\n",
      "V_SD = 0.422000 .\n",
      "V_G = 0.000000\tV_measure = 0.382418\tV_theoretical =  0.383360 .\n",
      "V_G = 0.400000\tV_measure = 0.382540\tV_theoretical =  0.383360 .\n",
      "V_G = 0.800000\tV_measure = 0.382540\tV_theoretical =  0.383360 .\n",
      "V_G = 1.200000\tV_measure = 0.382540\tV_theoretical =  0.383360 .\n",
      "V_G = 1.600000\tV_measure = 0.382540\tV_theoretical =  0.383360 .\n",
      "V_G = 2.000000\tV_measure = 0.382540\tV_theoretical =  0.383360 .\n",
      "V_G = 2.400000\tV_measure = 0.382540\tV_theoretical =  0.383360 .\n",
      "V_G = 2.800000\tV_measure = 0.382540\tV_theoretical =  0.383360 .\n",
      "V_G = 3.200000\tV_measure = 0.382509\tV_theoretical =  0.383360 .\n",
      "V_G = 3.600000\tV_measure = 0.382509\tV_theoretical =  0.383360 .\n",
      "V_G = 4.000000\tV_measure = 0.382540\tV_theoretical =  0.383360 .\n",
      "V_SD = 1.000000 .\n",
      "V_G = 0.000000\tV_measure = 0.905643\tV_theoretical =  0.909091 .\n",
      "V_G = 0.400000\tV_measure = 0.905888\tV_theoretical =  0.909091 .\n",
      "V_G = 0.800000\tV_measure = 0.905949\tV_theoretical =  0.909091 .\n",
      "V_G = 1.200000\tV_measure = 0.905949\tV_theoretical =  0.909091 .\n",
      "V_G = 1.600000\tV_measure = 0.905949\tV_theoretical =  0.909091 .\n",
      "V_G = 2.000000\tV_measure = 0.905888\tV_theoretical =  0.909091 .\n",
      "V_G = 2.400000\tV_measure = 0.905888\tV_theoretical =  0.909091 .\n",
      "V_G = 2.800000\tV_measure = 0.905888\tV_theoretical =  0.909091 .\n",
      "V_G = 3.200000\tV_measure = 0.905888\tV_theoretical =  0.909091 .\n",
      "V_G = 3.600000\tV_measure = 0.905949\tV_theoretical =  0.909091 .\n",
      "V_G = 4.000000\tV_measure = 0.905949\tV_theoretical =  0.909091 .\n"
     ]
    }
   ],
   "source": [
    "srs.sine_voltage = 0.0\n",
    "srs.sensitivity = 1e-3\n",
    "delay_time_GATE = 0.1\n",
    "delay_time_SD = 1.0\n",
    "V_measure_DIFFVG = []\n",
    "\n",
    "for V_SD in V_sd:\n",
    "    srs.GOTO(V_SD, step = 1e-2, delay_time = 0.5)\n",
    "    #srs.sine_voltage = V_SD\n",
    "    #time.sleep(delay_time_SD)\n",
    "    #sens_pass = srs.is_out_of_range()\n",
    "    print('V_SD = %.6f .' %srs.sine_voltage)\n",
    "#    SENSITIVITY_AUTO(srs, step_ratio=2, bottom_ratio=0.1, delay_time=1)\n",
    "#     while sens_pass:\n",
    "#         SENSITIVITY_AUTO(srs, ratio=2, delay_time= 1)\n",
    "#         sens_pass = srs.is_out_of_range()\n",
    "#         print(sens_pass)\n",
    "    V_measure = np.zeros_like(V_g)\n",
    "    for index, V_GATE in enumerate(V_g):\n",
    "        K236.GOTO(V_GATE, step = 0.05, delay_time = 0.05)\n",
    "        time.sleep(delay_time_GATE)\n",
    "        V_measure[index] = srs.magnitude\n",
    "        print('V_G = %.6f\\tV_measure = %.6f\\tV_theoretical =  %.6f .' %(K236.READ_OUT('S'), V_measure[index], V_SD*10/11.0) )\n",
    "    K236.GOTO(0.0, step = 0.5, delay_time = 0.05)\n",
    "    V_measure_DIFFVG.append(np.copy(V_measure))\n",
    "    \n",
    "srs.GOTO(0.0, step = 0.5, delay_time=0.01)\n",
    "K236.OPERATE_OFF()"
   ]
  },
  {
   "cell_type": "code",
   "execution_count": null,
   "metadata": {},
   "outputs": [],
   "source": []
  }
 ],
 "metadata": {
  "kernelspec": {
   "display_name": "Python 3",
   "language": "python",
   "name": "python3"
  },
  "language_info": {
   "codemirror_mode": {
    "name": "ipython",
    "version": 3
   },
   "file_extension": ".py",
   "mimetype": "text/x-python",
   "name": "python",
   "nbconvert_exporter": "python",
   "pygments_lexer": "ipython3",
   "version": "3.7.6"
  }
 },
 "nbformat": 4,
 "nbformat_minor": 2
}
